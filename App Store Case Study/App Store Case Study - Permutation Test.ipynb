{
 "cells": [
  {
   "cell_type": "markdown",
   "id": "c09898dd-4f15-4eb0-8f70-b3d5acc331fc",
   "metadata": {
    "tags": []
   },
   "source": [
    "# Part 2: Data wrangling"
   ]
  },
  {
   "cell_type": "code",
   "execution_count": 42,
   "id": "a98849a8-be4b-4502-a46a-7e9a2a01c45b",
   "metadata": {},
   "outputs": [],
   "source": [
    "# load modules\n",
    "import numpy as np\n",
    "import pandas as pd\n",
    "import matplotlib.pyplot as plt\n",
    "import seaborn as sns\n",
    "\n",
    "from scipy import stats"
   ]
  },
  {
   "cell_type": "markdown",
   "id": "1a705ea5-89be-4ba7-b451-76d4873494e0",
   "metadata": {},
   "source": [
    "## data sources\n",
    "\n",
    "Google data:\n",
    "https://www.kaggle.com/datasets/ramamet4/app-store-apple-data-set-10k-apps?resource=download\n",
    "https://www.kaggle.com/datasets/lava18/google-play-store-apps"
   ]
  },
  {
   "cell_type": "code",
   "execution_count": 2,
   "id": "2884bd51-0da3-4b5d-b0c9-57edc5edb377",
   "metadata": {},
   "outputs": [
    {
     "data": {
      "text/html": [
       "<div>\n",
       "<style scoped>\n",
       "    .dataframe tbody tr th:only-of-type {\n",
       "        vertical-align: middle;\n",
       "    }\n",
       "\n",
       "    .dataframe tbody tr th {\n",
       "        vertical-align: top;\n",
       "    }\n",
       "\n",
       "    .dataframe thead th {\n",
       "        text-align: right;\n",
       "    }\n",
       "</style>\n",
       "<table border=\"1\" class=\"dataframe\">\n",
       "  <thead>\n",
       "    <tr style=\"text-align: right;\">\n",
       "      <th></th>\n",
       "      <th>App</th>\n",
       "      <th>Category</th>\n",
       "      <th>Rating</th>\n",
       "      <th>Reviews</th>\n",
       "      <th>Size</th>\n",
       "      <th>Installs</th>\n",
       "      <th>Type</th>\n",
       "      <th>Price</th>\n",
       "      <th>Content Rating</th>\n",
       "      <th>Genres</th>\n",
       "      <th>Last Updated</th>\n",
       "      <th>Current Ver</th>\n",
       "      <th>Android Ver</th>\n",
       "    </tr>\n",
       "  </thead>\n",
       "  <tbody>\n",
       "    <tr>\n",
       "      <th>0</th>\n",
       "      <td>Photo Editor &amp; Candy Camera &amp; Grid &amp; ScrapBook</td>\n",
       "      <td>ART_AND_DESIGN</td>\n",
       "      <td>4.1</td>\n",
       "      <td>159</td>\n",
       "      <td>19M</td>\n",
       "      <td>10,000+</td>\n",
       "      <td>Free</td>\n",
       "      <td>0</td>\n",
       "      <td>Everyone</td>\n",
       "      <td>Art &amp; Design</td>\n",
       "      <td>January 7, 2018</td>\n",
       "      <td>1.0.0</td>\n",
       "      <td>4.0.3 and up</td>\n",
       "    </tr>\n",
       "    <tr>\n",
       "      <th>1</th>\n",
       "      <td>Coloring book moana</td>\n",
       "      <td>ART_AND_DESIGN</td>\n",
       "      <td>3.9</td>\n",
       "      <td>967</td>\n",
       "      <td>14M</td>\n",
       "      <td>500,000+</td>\n",
       "      <td>Free</td>\n",
       "      <td>0</td>\n",
       "      <td>Everyone</td>\n",
       "      <td>Art &amp; Design;Pretend Play</td>\n",
       "      <td>January 15, 2018</td>\n",
       "      <td>2.0.0</td>\n",
       "      <td>4.0.3 and up</td>\n",
       "    </tr>\n",
       "  </tbody>\n",
       "</table>\n",
       "</div>"
      ],
      "text/plain": [
       "                                              App        Category  Rating  \\\n",
       "0  Photo Editor & Candy Camera & Grid & ScrapBook  ART_AND_DESIGN     4.1   \n",
       "1                             Coloring book moana  ART_AND_DESIGN     3.9   \n",
       "\n",
       "  Reviews Size  Installs  Type Price Content Rating  \\\n",
       "0     159  19M   10,000+  Free     0       Everyone   \n",
       "1     967  14M  500,000+  Free     0       Everyone   \n",
       "\n",
       "                      Genres      Last Updated Current Ver   Android Ver  \n",
       "0               Art & Design   January 7, 2018       1.0.0  4.0.3 and up  \n",
       "1  Art & Design;Pretend Play  January 15, 2018       2.0.0  4.0.3 and up  "
      ]
     },
     "execution_count": 2,
     "metadata": {},
     "output_type": "execute_result"
    }
   ],
   "source": [
    "#import and cleaning data\n",
    "google = \"data/googleplaystore.csv\"\n",
    "df = pd.read_csv(google)\n",
    "df.head(2)"
   ]
  },
  {
   "cell_type": "code",
   "execution_count": 3,
   "id": "3bf25e37-394e-40ea-8e12-79d8143d1789",
   "metadata": {},
   "outputs": [
    {
     "data": {
      "text/html": [
       "<div>\n",
       "<style scoped>\n",
       "    .dataframe tbody tr th:only-of-type {\n",
       "        vertical-align: middle;\n",
       "    }\n",
       "\n",
       "    .dataframe tbody tr th {\n",
       "        vertical-align: top;\n",
       "    }\n",
       "\n",
       "    .dataframe thead th {\n",
       "        text-align: right;\n",
       "    }\n",
       "</style>\n",
       "<table border=\"1\" class=\"dataframe\">\n",
       "  <thead>\n",
       "    <tr style=\"text-align: right;\">\n",
       "      <th></th>\n",
       "      <th>app</th>\n",
       "      <th>category</th>\n",
       "      <th>rating</th>\n",
       "      <th>reviews</th>\n",
       "      <th>size</th>\n",
       "      <th>installs</th>\n",
       "      <th>type</th>\n",
       "      <th>price</th>\n",
       "      <th>content_rating</th>\n",
       "      <th>genres</th>\n",
       "      <th>last_updated</th>\n",
       "      <th>current_ver</th>\n",
       "      <th>android_ver</th>\n",
       "    </tr>\n",
       "  </thead>\n",
       "  <tbody>\n",
       "    <tr>\n",
       "      <th>0</th>\n",
       "      <td>Photo Editor &amp; Candy Camera &amp; Grid &amp; ScrapBook</td>\n",
       "      <td>ART_AND_DESIGN</td>\n",
       "      <td>4.1</td>\n",
       "      <td>159</td>\n",
       "      <td>19M</td>\n",
       "      <td>10,000+</td>\n",
       "      <td>Free</td>\n",
       "      <td>0</td>\n",
       "      <td>Everyone</td>\n",
       "      <td>Art &amp; Design</td>\n",
       "      <td>January 7, 2018</td>\n",
       "      <td>1.0.0</td>\n",
       "      <td>4.0.3 and up</td>\n",
       "    </tr>\n",
       "  </tbody>\n",
       "</table>\n",
       "</div>"
      ],
      "text/plain": [
       "                                              app        category  rating  \\\n",
       "0  Photo Editor & Candy Camera & Grid & ScrapBook  ART_AND_DESIGN     4.1   \n",
       "\n",
       "  reviews size installs  type price content_rating        genres  \\\n",
       "0     159  19M  10,000+  Free     0       Everyone  Art & Design   \n",
       "\n",
       "      last_updated current_ver   android_ver  \n",
       "0  January 7, 2018       1.0.0  4.0.3 and up  "
      ]
     },
     "execution_count": 3,
     "metadata": {},
     "output_type": "execute_result"
    }
   ],
   "source": [
    "# rename column names for tidiness\n",
    "old_columns = pd.DataFrame(list(df.columns),columns = [\"old\"])\n",
    "old_columns['new']= old_columns.old.str.replace('[^\\w\\s]','',regex = True).str.replace(' ','_').str.lower()\n",
    "df.rename(columns = dict(zip(old_columns.old,old_columns.new)), \n",
    "          inplace =True)\n",
    "df.head(1)"
   ]
  },
  {
   "cell_type": "code",
   "execution_count": 4,
   "id": "4e610bdd-5d95-4f6f-aa0a-7474fa1856ab",
   "metadata": {},
   "outputs": [
    {
     "name": "stdout",
     "output_type": "stream",
     "text": [
      "<class 'pandas.core.frame.DataFrame'>\n",
      "RangeIndex: 10841 entries, 0 to 10840\n",
      "Data columns (total 13 columns):\n",
      " #   Column          Non-Null Count  Dtype  \n",
      "---  ------          --------------  -----  \n",
      " 0   app             10841 non-null  object \n",
      " 1   category        10841 non-null  object \n",
      " 2   rating          9367 non-null   float64\n",
      " 3   reviews         10841 non-null  object \n",
      " 4   size            10841 non-null  object \n",
      " 5   installs        10841 non-null  object \n",
      " 6   type            10840 non-null  object \n",
      " 7   price           10841 non-null  object \n",
      " 8   content_rating  10840 non-null  object \n",
      " 9   genres          10841 non-null  object \n",
      " 10  last_updated    10841 non-null  object \n",
      " 11  current_ver     10833 non-null  object \n",
      " 12  android_ver     10838 non-null  object \n",
      "dtypes: float64(1), object(12)\n",
      "memory usage: 1.1+ MB\n"
     ]
    }
   ],
   "source": [
    "df.info()"
   ]
  },
  {
   "cell_type": "markdown",
   "id": "e248f573-c125-4018-8e89-2686676f5b93",
   "metadata": {},
   "source": [
    "### Checking data types\n",
    "Observing the data types of each column with reference to the first few rows:\n",
    "- 'reviews' should be an integer instead of object\n",
    "- 'size' should be an integer or float instead of object\n",
    "- 'price' should be integer or float instead of object\n",
    "- 'type' should be categorical instead of object\n",
    "- 'last_updated' should be a date instead of object"
   ]
  },
  {
   "cell_type": "markdown",
   "id": "2caedc2c-8bb7-426f-887d-1fc27f873d96",
   "metadata": {},
   "source": [
    "#### Cleaning 'reviews'"
   ]
  },
  {
   "cell_type": "code",
   "execution_count": 5,
   "id": "f16bdb2e-20e9-4fcd-9623-beb34dd2a87b",
   "metadata": {},
   "outputs": [
    {
     "data": {
      "text/html": [
       "<div>\n",
       "<style scoped>\n",
       "    .dataframe tbody tr th:only-of-type {\n",
       "        vertical-align: middle;\n",
       "    }\n",
       "\n",
       "    .dataframe tbody tr th {\n",
       "        vertical-align: top;\n",
       "    }\n",
       "\n",
       "    .dataframe thead th {\n",
       "        text-align: right;\n",
       "    }\n",
       "</style>\n",
       "<table border=\"1\" class=\"dataframe\">\n",
       "  <thead>\n",
       "    <tr style=\"text-align: right;\">\n",
       "      <th></th>\n",
       "      <th>app</th>\n",
       "      <th>category</th>\n",
       "      <th>rating</th>\n",
       "      <th>reviews</th>\n",
       "      <th>size</th>\n",
       "      <th>installs</th>\n",
       "      <th>type</th>\n",
       "      <th>price</th>\n",
       "      <th>content_rating</th>\n",
       "      <th>genres</th>\n",
       "      <th>last_updated</th>\n",
       "      <th>current_ver</th>\n",
       "      <th>android_ver</th>\n",
       "    </tr>\n",
       "  </thead>\n",
       "  <tbody>\n",
       "    <tr>\n",
       "      <th>10472</th>\n",
       "      <td>Life Made WI-Fi Touchscreen Photo Frame</td>\n",
       "      <td>1.9</td>\n",
       "      <td>19.0</td>\n",
       "      <td>3.0M</td>\n",
       "      <td>1,000+</td>\n",
       "      <td>Free</td>\n",
       "      <td>0</td>\n",
       "      <td>Everyone</td>\n",
       "      <td>NaN</td>\n",
       "      <td>February 11, 2018</td>\n",
       "      <td>1.0.19</td>\n",
       "      <td>4.0 and up</td>\n",
       "      <td>NaN</td>\n",
       "    </tr>\n",
       "  </tbody>\n",
       "</table>\n",
       "</div>"
      ],
      "text/plain": [
       "                                           app category  rating reviews  \\\n",
       "10472  Life Made WI-Fi Touchscreen Photo Frame      1.9    19.0    3.0M   \n",
       "\n",
       "         size installs type     price content_rating             genres  \\\n",
       "10472  1,000+     Free    0  Everyone            NaN  February 11, 2018   \n",
       "\n",
       "      last_updated current_ver android_ver  \n",
       "10472       1.0.19  4.0 and up         NaN  "
      ]
     },
     "execution_count": 5,
     "metadata": {},
     "output_type": "execute_result"
    }
   ],
   "source": [
    "# Filtering all rows where review is not a number\n",
    "df.loc[df.reviews.str.isnumeric()==False]"
   ]
  },
  {
   "cell_type": "code",
   "execution_count": 6,
   "id": "50ad4d7f-56dc-4829-8577-58a92f4d7327",
   "metadata": {},
   "outputs": [
    {
     "name": "stdout",
     "output_type": "stream",
     "text": [
      "Size before dropping:  (10841, 13)\n",
      "Size after dropping:  (10840, 13)\n"
     ]
    }
   ],
   "source": [
    "# upon closer inspection, row's data does not make sense\n",
    "print(\"Size before dropping: \", df.shape)\n",
    "df.drop(df.loc[df.reviews.str.isnumeric()==False].index, inplace = True)\n",
    "df.reset_index(drop = True, inplace = True);\n",
    "print(\"Size after dropping: \", df.shape)\n",
    "\n",
    "# convert df reviews to integer type\n",
    "df.reviews = df.reviews.astype('int64')"
   ]
  },
  {
   "cell_type": "markdown",
   "id": "5fa44030-a321-41a2-9277-37b2b9c3ef9e",
   "metadata": {},
   "source": [
    "#### Cleaning 'size'"
   ]
  },
  {
   "cell_type": "code",
   "execution_count": 7,
   "id": "930178a0-531e-49ae-a8b3-2752c04d1f82",
   "metadata": {},
   "outputs": [],
   "source": [
    "df['size_bytes'] = np.NaN\n",
    "df['size_unit'] = df['size'].str.lower().str[-1]\n",
    "df['numbers']= df['size'].str.extract('(\\d+)')"
   ]
  },
  {
   "cell_type": "code",
   "execution_count": 8,
   "id": "68560042-e589-4254-8982-92cd04ce39a7",
   "metadata": {},
   "outputs": [
    {
     "data": {
      "text/plain": [
       "size_unit  size_unit\n",
       "m          m            8829\n",
       "e          e            1695\n",
       "k          k             316\n",
       "Name: size_unit, dtype: int64"
      ]
     },
     "execution_count": 8,
     "metadata": {},
     "output_type": "execute_result"
    }
   ],
   "source": [
    "df['size_unit'].groupby(df['size_unit']).value_counts().sort_values(ascending=False)"
   ]
  },
  {
   "cell_type": "code",
   "execution_count": 9,
   "id": "8793b076-e996-41bb-a3e3-30fd5197dccf",
   "metadata": {},
   "outputs": [
    {
     "data": {
      "text/plain": [
       "size                size              \n",
       "Varies with device  Varies with device    1695\n",
       "11M                 11M                    198\n",
       "12M                 12M                    196\n",
       "14M                 14M                    194\n",
       "13M                 13M                    191\n",
       "                                          ... \n",
       "642k                642k                     1\n",
       "643k                643k                     1\n",
       "647k                647k                     1\n",
       "269k                269k                     1\n",
       "516k                516k                     1\n",
       "Name: size, Length: 461, dtype: int64"
      ]
     },
     "execution_count": 9,
     "metadata": {},
     "output_type": "execute_result"
    }
   ],
   "source": [
    "df['size'].groupby(df['size']).value_counts().sort_values(ascending=False)"
   ]
  },
  {
   "cell_type": "markdown",
   "id": "6600d45f-a3ef-4028-92f8-731b82e21b23",
   "metadata": {},
   "source": [
    "Size is recorded as an abbreviation of unit plus measurement.  \n",
    "The units should be removed and all size converted to bytes.  \n",
    "Any entries with \"Varies with device\" will be converted to Null."
   ]
  },
  {
   "cell_type": "code",
   "execution_count": 10,
   "id": "2b50031f-f98e-4b79-bf01-e9b84e65ad45",
   "metadata": {},
   "outputs": [],
   "source": [
    "for row in range(len(df)):\n",
    "    if df.loc[row,'size_unit'] == 'k':\n",
    "        df.loc[row,'size_bytes'] = float(df.loc[row,'numbers'])*1000\n",
    "    elif df.loc[row,'size_unit'] == 'm':\n",
    "        df.loc[row,'size_bytes'] = float(df.loc[row,'numbers'])*1000000\n",
    "    else: df.loc[row,'size_bytes'] = np.NaN"
   ]
  },
  {
   "cell_type": "code",
   "execution_count": 11,
   "id": "e0463a05-74da-412e-b0b1-b74cf4282e37",
   "metadata": {},
   "outputs": [],
   "source": [
    "df.drop(['size_unit','numbers', 'size'], inplace = True, axis = 1)\n",
    "df.size_bytes = df.size_bytes.astype(float)"
   ]
  },
  {
   "cell_type": "markdown",
   "id": "cfdcc369-b6ea-4db9-ac75-1e6f0182057a",
   "metadata": {},
   "source": [
    "#### Cleaning 'Price'"
   ]
  },
  {
   "cell_type": "code",
   "execution_count": 12,
   "id": "1fa94be5-9e69-4849-9fb4-f4713124945c",
   "metadata": {},
   "outputs": [
    {
     "data": {
      "text/plain": [
       "array(['0', '$4.99', '$3.99', '$6.99', '$1.49', '$2.99', '$7.99', '$5.99',\n",
       "       '$3.49', '$1.99', '$9.99', '$7.49', '$0.99', '$9.00', '$5.49',\n",
       "       '$10.00', '$24.99', '$11.99', '$79.99', '$16.99', '$14.99',\n",
       "       '$1.00', '$29.99', '$12.99', '$2.49', '$10.99', '$1.50', '$19.99',\n",
       "       '$15.99', '$33.99', '$74.99', '$39.99', '$3.95', '$4.49', '$1.70',\n",
       "       '$8.99', '$2.00', '$3.88', '$25.99', '$399.99', '$17.99',\n",
       "       '$400.00', '$3.02', '$1.76', '$4.84', '$4.77', '$1.61', '$2.50',\n",
       "       '$1.59', '$6.49', '$1.29', '$5.00', '$13.99', '$299.99', '$379.99',\n",
       "       '$37.99', '$18.99', '$389.99', '$19.90', '$8.49', '$1.75',\n",
       "       '$14.00', '$4.85', '$46.99', '$109.99', '$154.99', '$3.08',\n",
       "       '$2.59', '$4.80', '$1.96', '$19.40', '$3.90', '$4.59', '$15.46',\n",
       "       '$3.04', '$4.29', '$2.60', '$3.28', '$4.60', '$28.99', '$2.95',\n",
       "       '$2.90', '$1.97', '$200.00', '$89.99', '$2.56', '$30.99', '$3.61',\n",
       "       '$394.99', '$1.26', '$1.20', '$1.04'], dtype=object)"
      ]
     },
     "execution_count": 12,
     "metadata": {},
     "output_type": "execute_result"
    }
   ],
   "source": [
    "df.price.unique()"
   ]
  },
  {
   "cell_type": "code",
   "execution_count": 13,
   "id": "6fcd36b0-1b46-4869-82df-f70b7c763929",
   "metadata": {},
   "outputs": [],
   "source": [
    "df.price = df.price.str.replace('$', '',regex =False)\n",
    "df.price = df.price.astype(float)"
   ]
  },
  {
   "cell_type": "markdown",
   "id": "4d6caa58-70e6-4fa8-8c17-5bd71cd67a30",
   "metadata": {
    "tags": []
   },
   "source": [
    "#### Cleaning 'Type'"
   ]
  },
  {
   "cell_type": "code",
   "execution_count": 14,
   "id": "10c3aaea-f974-4f51-bc64-64063e50b9a9",
   "metadata": {},
   "outputs": [
    {
     "data": {
      "text/plain": [
       "Free    10039\n",
       "Paid      800\n",
       "NaN         1\n",
       "Name: type, dtype: int64"
      ]
     },
     "execution_count": 14,
     "metadata": {},
     "output_type": "execute_result"
    }
   ],
   "source": [
    "df.type.value_counts(dropna = False)"
   ]
  },
  {
   "cell_type": "code",
   "execution_count": 15,
   "id": "079e46df-d3ed-4d08-947a-9ce8a3e95ad9",
   "metadata": {},
   "outputs": [
    {
     "data": {
      "text/html": [
       "<div>\n",
       "<style scoped>\n",
       "    .dataframe tbody tr th:only-of-type {\n",
       "        vertical-align: middle;\n",
       "    }\n",
       "\n",
       "    .dataframe tbody tr th {\n",
       "        vertical-align: top;\n",
       "    }\n",
       "\n",
       "    .dataframe thead th {\n",
       "        text-align: right;\n",
       "    }\n",
       "</style>\n",
       "<table border=\"1\" class=\"dataframe\">\n",
       "  <thead>\n",
       "    <tr style=\"text-align: right;\">\n",
       "      <th></th>\n",
       "      <th>app</th>\n",
       "      <th>category</th>\n",
       "      <th>rating</th>\n",
       "      <th>reviews</th>\n",
       "      <th>installs</th>\n",
       "      <th>type</th>\n",
       "      <th>price</th>\n",
       "      <th>content_rating</th>\n",
       "      <th>genres</th>\n",
       "      <th>last_updated</th>\n",
       "      <th>current_ver</th>\n",
       "      <th>android_ver</th>\n",
       "      <th>size_bytes</th>\n",
       "    </tr>\n",
       "  </thead>\n",
       "  <tbody>\n",
       "    <tr>\n",
       "      <th>9148</th>\n",
       "      <td>Command &amp; Conquer: Rivals</td>\n",
       "      <td>FAMILY</td>\n",
       "      <td>NaN</td>\n",
       "      <td>0</td>\n",
       "      <td>0</td>\n",
       "      <td>NaN</td>\n",
       "      <td>0.0</td>\n",
       "      <td>Everyone 10+</td>\n",
       "      <td>Strategy</td>\n",
       "      <td>June 28, 2018</td>\n",
       "      <td>Varies with device</td>\n",
       "      <td>Varies with device</td>\n",
       "      <td>NaN</td>\n",
       "    </tr>\n",
       "  </tbody>\n",
       "</table>\n",
       "</div>"
      ],
      "text/plain": [
       "                            app category  rating  reviews installs type  \\\n",
       "9148  Command & Conquer: Rivals   FAMILY     NaN        0        0  NaN   \n",
       "\n",
       "      price content_rating    genres   last_updated         current_ver  \\\n",
       "9148    0.0   Everyone 10+  Strategy  June 28, 2018  Varies with device   \n",
       "\n",
       "             android_ver  size_bytes  \n",
       "9148  Varies with device         NaN  "
      ]
     },
     "execution_count": 15,
     "metadata": {},
     "output_type": "execute_result"
    }
   ],
   "source": [
    "df.loc[~df.type.isin(['Free','Paid'])]"
   ]
  },
  {
   "cell_type": "code",
   "execution_count": 16,
   "id": "986b1d09-db76-4f81-ae48-f9e5c71f0ea3",
   "metadata": {},
   "outputs": [
    {
     "name": "stdout",
     "output_type": "stream",
     "text": [
      "Size before dropping:  (10840, 13)\n",
      "Size after dropping:  (10839, 13)\n"
     ]
    }
   ],
   "source": [
    "print(\"Size before dropping: \", df.shape)\n",
    "df.drop(df.loc[~df.type.isin(['Free','Paid'])].index,inplace=True)\n",
    "df.reset_index(inplace=True, drop = True)\n",
    "print(\"Size after dropping: \", df.shape)\n",
    "\n",
    "df['type'] = df['type'].astype('category')"
   ]
  },
  {
   "cell_type": "markdown",
   "id": "89fb0bee-9537-45d6-8ce9-d14d7c03bbfb",
   "metadata": {},
   "source": [
    "#### Cleaning 'last_updated'"
   ]
  },
  {
   "cell_type": "code",
   "execution_count": 17,
   "id": "2a7ebede-d4b2-4a08-b963-22ba5c59bd86",
   "metadata": {},
   "outputs": [],
   "source": [
    "df['last_updated'] = pd.to_datetime(df['last_updated'])"
   ]
  },
  {
   "cell_type": "markdown",
   "id": "2a93be2f-08db-4a89-9b0b-80a94af536ea",
   "metadata": {},
   "source": [
    "#### Reviewing cleaned Google data"
   ]
  },
  {
   "cell_type": "code",
   "execution_count": 18,
   "id": "8cdbcead-89bb-469f-b4b8-145005d20ac8",
   "metadata": {},
   "outputs": [
    {
     "name": "stdout",
     "output_type": "stream",
     "text": [
      "<class 'pandas.core.frame.DataFrame'>\n",
      "RangeIndex: 10839 entries, 0 to 10838\n",
      "Data columns (total 13 columns):\n",
      " #   Column          Non-Null Count  Dtype         \n",
      "---  ------          --------------  -----         \n",
      " 0   app             10839 non-null  object        \n",
      " 1   category        10839 non-null  object        \n",
      " 2   rating          9366 non-null   float64       \n",
      " 3   reviews         10839 non-null  int64         \n",
      " 4   installs        10839 non-null  object        \n",
      " 5   type            10839 non-null  category      \n",
      " 6   price           10839 non-null  float64       \n",
      " 7   content_rating  10839 non-null  object        \n",
      " 8   genres          10839 non-null  object        \n",
      " 9   last_updated    10839 non-null  datetime64[ns]\n",
      " 10  current_ver     10831 non-null  object        \n",
      " 11  android_ver     10837 non-null  object        \n",
      " 12  size_bytes      9145 non-null   float64       \n",
      "dtypes: category(1), datetime64[ns](1), float64(3), int64(1), object(7)\n",
      "memory usage: 1.0+ MB\n"
     ]
    }
   ],
   "source": [
    "google_df = df\n",
    "google_df.info()"
   ]
  },
  {
   "cell_type": "code",
   "execution_count": 19,
   "id": "705f8e5d-e496-4b52-ab73-9c0f5bbe03aa",
   "metadata": {},
   "outputs": [],
   "source": [
    "google_df = google_df[['app','category','rating','reviews','price','size_bytes']]"
   ]
  },
  {
   "cell_type": "code",
   "execution_count": 20,
   "id": "67d728b8-72ea-4d28-af55-b7e3d43d3e56",
   "metadata": {},
   "outputs": [
    {
     "name": "stdout",
     "output_type": "stream",
     "text": [
      "<class 'pandas.core.frame.DataFrame'>\n",
      "RangeIndex: 10839 entries, 0 to 10838\n",
      "Data columns (total 6 columns):\n",
      " #   Column      Non-Null Count  Dtype  \n",
      "---  ------      --------------  -----  \n",
      " 0   app         10839 non-null  object \n",
      " 1   category    10839 non-null  object \n",
      " 2   rating      9366 non-null   float64\n",
      " 3   reviews     10839 non-null  int64  \n",
      " 4   price       10839 non-null  float64\n",
      " 5   size_bytes  9145 non-null   float64\n",
      "dtypes: float64(3), int64(1), object(2)\n",
      "memory usage: 508.2+ KB\n"
     ]
    }
   ],
   "source": [
    "google_df.info()"
   ]
  },
  {
   "cell_type": "markdown",
   "id": "c7abe8f1-5c03-4186-93ef-e19906186712",
   "metadata": {},
   "source": [
    "## Cleaning Apple Data"
   ]
  },
  {
   "cell_type": "code",
   "execution_count": 21,
   "id": "1b3d0e29-f845-4016-94cb-254c3ea61209",
   "metadata": {},
   "outputs": [
    {
     "data": {
      "text/html": [
       "<div>\n",
       "<style scoped>\n",
       "    .dataframe tbody tr th:only-of-type {\n",
       "        vertical-align: middle;\n",
       "    }\n",
       "\n",
       "    .dataframe tbody tr th {\n",
       "        vertical-align: top;\n",
       "    }\n",
       "\n",
       "    .dataframe thead th {\n",
       "        text-align: right;\n",
       "    }\n",
       "</style>\n",
       "<table border=\"1\" class=\"dataframe\">\n",
       "  <thead>\n",
       "    <tr style=\"text-align: right;\">\n",
       "      <th></th>\n",
       "      <th>Unnamed: 0</th>\n",
       "      <th>id</th>\n",
       "      <th>track_name</th>\n",
       "      <th>size_bytes</th>\n",
       "      <th>currency</th>\n",
       "      <th>price</th>\n",
       "      <th>rating_count_tot</th>\n",
       "      <th>rating_count_ver</th>\n",
       "      <th>user_rating</th>\n",
       "      <th>user_rating_ver</th>\n",
       "      <th>ver</th>\n",
       "      <th>cont_rating</th>\n",
       "      <th>prime_genre</th>\n",
       "      <th>sup_devices.num</th>\n",
       "      <th>ipadSc_urls.num</th>\n",
       "      <th>lang.num</th>\n",
       "      <th>vpp_lic</th>\n",
       "    </tr>\n",
       "  </thead>\n",
       "  <tbody>\n",
       "    <tr>\n",
       "      <th>0</th>\n",
       "      <td>1</td>\n",
       "      <td>281656475</td>\n",
       "      <td>PAC-MAN Premium</td>\n",
       "      <td>100788224</td>\n",
       "      <td>USD</td>\n",
       "      <td>3.99</td>\n",
       "      <td>21292</td>\n",
       "      <td>26</td>\n",
       "      <td>4.0</td>\n",
       "      <td>4.5</td>\n",
       "      <td>6.3.5</td>\n",
       "      <td>4+</td>\n",
       "      <td>Games</td>\n",
       "      <td>38</td>\n",
       "      <td>5</td>\n",
       "      <td>10</td>\n",
       "      <td>1</td>\n",
       "    </tr>\n",
       "    <tr>\n",
       "      <th>1</th>\n",
       "      <td>2</td>\n",
       "      <td>281796108</td>\n",
       "      <td>Evernote - stay organized</td>\n",
       "      <td>158578688</td>\n",
       "      <td>USD</td>\n",
       "      <td>0.00</td>\n",
       "      <td>161065</td>\n",
       "      <td>26</td>\n",
       "      <td>4.0</td>\n",
       "      <td>3.5</td>\n",
       "      <td>8.2.2</td>\n",
       "      <td>4+</td>\n",
       "      <td>Productivity</td>\n",
       "      <td>37</td>\n",
       "      <td>5</td>\n",
       "      <td>23</td>\n",
       "      <td>1</td>\n",
       "    </tr>\n",
       "  </tbody>\n",
       "</table>\n",
       "</div>"
      ],
      "text/plain": [
       "   Unnamed: 0         id                 track_name  size_bytes currency  \\\n",
       "0           1  281656475            PAC-MAN Premium   100788224      USD   \n",
       "1           2  281796108  Evernote - stay organized   158578688      USD   \n",
       "\n",
       "   price  rating_count_tot  rating_count_ver  user_rating  user_rating_ver  \\\n",
       "0   3.99             21292                26          4.0              4.5   \n",
       "1   0.00            161065                26          4.0              3.5   \n",
       "\n",
       "     ver cont_rating   prime_genre  sup_devices.num  ipadSc_urls.num  \\\n",
       "0  6.3.5          4+         Games               38                5   \n",
       "1  8.2.2          4+  Productivity               37                5   \n",
       "\n",
       "   lang.num  vpp_lic  \n",
       "0        10        1  \n",
       "1        23        1  "
      ]
     },
     "execution_count": 21,
     "metadata": {},
     "output_type": "execute_result"
    }
   ],
   "source": [
    "apple = \"data/AppleStore.csv\"\n",
    "df = pd.read_csv(apple)\n",
    "df.head(2)"
   ]
  },
  {
   "cell_type": "code",
   "execution_count": 22,
   "id": "8d15fd67-4cc2-4f51-9de9-d38c0e946836",
   "metadata": {},
   "outputs": [
    {
     "data": {
      "text/plain": [
       "array(['USD'], dtype=object)"
      ]
     },
     "execution_count": 22,
     "metadata": {},
     "output_type": "execute_result"
    }
   ],
   "source": [
    "df.currency.unique()"
   ]
  },
  {
   "cell_type": "code",
   "execution_count": 23,
   "id": "f8527be2-e68d-4668-9168-f40bd95bb721",
   "metadata": {},
   "outputs": [],
   "source": [
    "df = df[['track_name','prime_genre', 'user_rating', 'rating_count_tot', 'price', 'size_bytes']]"
   ]
  },
  {
   "cell_type": "code",
   "execution_count": 24,
   "id": "6f00da82-8122-4ce6-983a-65bb485164c7",
   "metadata": {},
   "outputs": [],
   "source": [
    "df.rename(columns = dict(zip(df.columns,list(google_df.columns))), inplace = True)"
   ]
  },
  {
   "cell_type": "code",
   "execution_count": 25,
   "id": "e1c52d1e-936a-4787-b327-f50e6b1a1a4d",
   "metadata": {},
   "outputs": [
    {
     "data": {
      "text/html": [
       "<div>\n",
       "<style scoped>\n",
       "    .dataframe tbody tr th:only-of-type {\n",
       "        vertical-align: middle;\n",
       "    }\n",
       "\n",
       "    .dataframe tbody tr th {\n",
       "        vertical-align: top;\n",
       "    }\n",
       "\n",
       "    .dataframe thead th {\n",
       "        text-align: right;\n",
       "    }\n",
       "</style>\n",
       "<table border=\"1\" class=\"dataframe\">\n",
       "  <thead>\n",
       "    <tr style=\"text-align: right;\">\n",
       "      <th></th>\n",
       "      <th>app</th>\n",
       "      <th>category</th>\n",
       "      <th>rating</th>\n",
       "      <th>reviews</th>\n",
       "      <th>price</th>\n",
       "      <th>size_bytes</th>\n",
       "    </tr>\n",
       "  </thead>\n",
       "  <tbody>\n",
       "    <tr>\n",
       "      <th>0</th>\n",
       "      <td>PAC-MAN Premium</td>\n",
       "      <td>Games</td>\n",
       "      <td>4.0</td>\n",
       "      <td>21292</td>\n",
       "      <td>3.99</td>\n",
       "      <td>100788224</td>\n",
       "    </tr>\n",
       "    <tr>\n",
       "      <th>1</th>\n",
       "      <td>Evernote - stay organized</td>\n",
       "      <td>Productivity</td>\n",
       "      <td>4.0</td>\n",
       "      <td>161065</td>\n",
       "      <td>0.00</td>\n",
       "      <td>158578688</td>\n",
       "    </tr>\n",
       "    <tr>\n",
       "      <th>2</th>\n",
       "      <td>WeatherBug - Local Weather, Radar, Maps, Alerts</td>\n",
       "      <td>Weather</td>\n",
       "      <td>3.5</td>\n",
       "      <td>188583</td>\n",
       "      <td>0.00</td>\n",
       "      <td>100524032</td>\n",
       "    </tr>\n",
       "    <tr>\n",
       "      <th>3</th>\n",
       "      <td>eBay: Best App to Buy, Sell, Save! Online Shop...</td>\n",
       "      <td>Shopping</td>\n",
       "      <td>4.0</td>\n",
       "      <td>262241</td>\n",
       "      <td>0.00</td>\n",
       "      <td>128512000</td>\n",
       "    </tr>\n",
       "    <tr>\n",
       "      <th>4</th>\n",
       "      <td>Bible</td>\n",
       "      <td>Reference</td>\n",
       "      <td>4.5</td>\n",
       "      <td>985920</td>\n",
       "      <td>0.00</td>\n",
       "      <td>92774400</td>\n",
       "    </tr>\n",
       "  </tbody>\n",
       "</table>\n",
       "</div>"
      ],
      "text/plain": [
       "                                                 app      category  rating  \\\n",
       "0                                    PAC-MAN Premium         Games     4.0   \n",
       "1                          Evernote - stay organized  Productivity     4.0   \n",
       "2    WeatherBug - Local Weather, Radar, Maps, Alerts       Weather     3.5   \n",
       "3  eBay: Best App to Buy, Sell, Save! Online Shop...      Shopping     4.0   \n",
       "4                                              Bible     Reference     4.5   \n",
       "\n",
       "   reviews  price  size_bytes  \n",
       "0    21292   3.99   100788224  \n",
       "1   161065   0.00   158578688  \n",
       "2   188583   0.00   100524032  \n",
       "3   262241   0.00   128512000  \n",
       "4   985920   0.00    92774400  "
      ]
     },
     "execution_count": 25,
     "metadata": {},
     "output_type": "execute_result"
    }
   ],
   "source": [
    "df.head()"
   ]
  },
  {
   "cell_type": "code",
   "execution_count": 26,
   "id": "9f32871a-4cd7-4170-93f7-8ca7273eb47e",
   "metadata": {},
   "outputs": [
    {
     "name": "stdout",
     "output_type": "stream",
     "text": [
      "<class 'pandas.core.frame.DataFrame'>\n",
      "RangeIndex: 7197 entries, 0 to 7196\n",
      "Data columns (total 6 columns):\n",
      " #   Column      Non-Null Count  Dtype  \n",
      "---  ------      --------------  -----  \n",
      " 0   app         7197 non-null   object \n",
      " 1   category    7197 non-null   object \n",
      " 2   rating      7197 non-null   float64\n",
      " 3   reviews     7197 non-null   int64  \n",
      " 4   price       7197 non-null   float64\n",
      " 5   size_bytes  7197 non-null   int64  \n",
      "dtypes: float64(2), int64(2), object(2)\n",
      "memory usage: 337.5+ KB\n"
     ]
    }
   ],
   "source": [
    "df.info()"
   ]
  },
  {
   "cell_type": "code",
   "execution_count": 27,
   "id": "6e11e0e7-a0b8-4cc1-aca6-8fda3fb06d08",
   "metadata": {},
   "outputs": [],
   "source": [
    "df.size_bytes = df.size_bytes.astype(float)"
   ]
  },
  {
   "cell_type": "code",
   "execution_count": 28,
   "id": "da95c68d-5ce6-4794-9981-3504d138fea8",
   "metadata": {},
   "outputs": [],
   "source": [
    "apple_df = df"
   ]
  },
  {
   "cell_type": "markdown",
   "id": "716dc81a-37a6-4327-9654-1619eb2aa275",
   "metadata": {},
   "source": [
    "## Combining Google and Apple app data"
   ]
  },
  {
   "cell_type": "code",
   "execution_count": 29,
   "id": "7c2ebde4-8bf6-4ef8-a24b-e1c675756501",
   "metadata": {},
   "outputs": [
    {
     "name": "stdout",
     "output_type": "stream",
     "text": [
      "Google data size before append:  (10839, 7)\n",
      "Apple data size before append:  (7197, 7)\n",
      "Size after append:  (18036, 7)\n"
     ]
    }
   ],
   "source": [
    "google_df['store'] = \"google\"\n",
    "apple_df['store'] = \"apple\"\n",
    "print(\"Google data size before append: \", google_df.shape)\n",
    "print(\"Apple data size before append: \", apple_df.shape)\n",
    "app_df = pd.concat([google_df, apple_df])\n",
    "print(\"Size after append: \", app_df.shape)"
   ]
  },
  {
   "cell_type": "markdown",
   "id": "539045ec-39fc-4396-9440-0848839ac301",
   "metadata": {},
   "source": [
    "# Part 3 Exploratory Data Analysis"
   ]
  },
  {
   "cell_type": "code",
   "execution_count": 30,
   "id": "f8a64732-1761-46f7-bf3c-f0a874b9a0a4",
   "metadata": {},
   "outputs": [
    {
     "name": "stdout",
     "output_type": "stream",
     "text": [
      "<class 'pandas.core.frame.DataFrame'>\n",
      "Int64Index: 18036 entries, 0 to 7196\n",
      "Data columns (total 7 columns):\n",
      " #   Column      Non-Null Count  Dtype  \n",
      "---  ------      --------------  -----  \n",
      " 0   app         18036 non-null  object \n",
      " 1   category    18036 non-null  object \n",
      " 2   rating      16563 non-null  float64\n",
      " 3   reviews     18036 non-null  int64  \n",
      " 4   price       18036 non-null  float64\n",
      " 5   size_bytes  16342 non-null  float64\n",
      " 6   store       18036 non-null  object \n",
      "dtypes: float64(3), int64(1), object(3)\n",
      "memory usage: 1.1+ MB\n"
     ]
    }
   ],
   "source": [
    "app_df.info()"
   ]
  },
  {
   "cell_type": "code",
   "execution_count": 31,
   "id": "0b0bd422-3deb-473d-9df6-ad4d53ea7355",
   "metadata": {},
   "outputs": [
    {
     "data": {
      "text/plain": [
       "store   store \n",
       "google  google    1473\n",
       "Name: store, dtype: int64"
      ]
     },
     "execution_count": 31,
     "metadata": {},
     "output_type": "execute_result"
    }
   ],
   "source": [
    "temp = app_df[app_df.rating.isnull()==True]\n",
    "temp.groupby(by = 'store').store.value_counts()"
   ]
  },
  {
   "cell_type": "code",
   "execution_count": 32,
   "id": "7b31a903-31a6-470b-a119-05862bfab42b",
   "metadata": {},
   "outputs": [
    {
     "data": {
      "text/html": [
       "<div>\n",
       "<style scoped>\n",
       "    .dataframe tbody tr th:only-of-type {\n",
       "        vertical-align: middle;\n",
       "    }\n",
       "\n",
       "    .dataframe tbody tr th {\n",
       "        vertical-align: top;\n",
       "    }\n",
       "\n",
       "    .dataframe thead th {\n",
       "        text-align: right;\n",
       "    }\n",
       "</style>\n",
       "<table border=\"1\" class=\"dataframe\">\n",
       "  <thead>\n",
       "    <tr style=\"text-align: right;\">\n",
       "      <th></th>\n",
       "      <th>app</th>\n",
       "      <th>category</th>\n",
       "      <th>rating</th>\n",
       "      <th>reviews</th>\n",
       "      <th>price</th>\n",
       "      <th>size_bytes</th>\n",
       "      <th>store</th>\n",
       "    </tr>\n",
       "  </thead>\n",
       "  <tbody>\n",
       "    <tr>\n",
       "      <th>3589</th>\n",
       "      <td>We learn children's verses in kindergarten</td>\n",
       "      <td>PARENTING</td>\n",
       "      <td>NaN</td>\n",
       "      <td>3248</td>\n",
       "      <td>0.0</td>\n",
       "      <td>6000000.0</td>\n",
       "      <td>google</td>\n",
       "    </tr>\n",
       "    <tr>\n",
       "      <th>9566</th>\n",
       "      <td>Adivina el Emoji</td>\n",
       "      <td>GAME</td>\n",
       "      <td>NaN</td>\n",
       "      <td>2536</td>\n",
       "      <td>0.0</td>\n",
       "      <td>32000000.0</td>\n",
       "      <td>google</td>\n",
       "    </tr>\n",
       "    <tr>\n",
       "      <th>1559</th>\n",
       "      <td>Young Speeches</td>\n",
       "      <td>LIBRARIES_AND_DEMO</td>\n",
       "      <td>NaN</td>\n",
       "      <td>2221</td>\n",
       "      <td>0.0</td>\n",
       "      <td>2000000.0</td>\n",
       "      <td>google</td>\n",
       "    </tr>\n",
       "    <tr>\n",
       "      <th>321</th>\n",
       "      <td>【Ranobbe complete free】 Novelba - Free app tha...</td>\n",
       "      <td>COMICS</td>\n",
       "      <td>NaN</td>\n",
       "      <td>1330</td>\n",
       "      <td>0.0</td>\n",
       "      <td>22000000.0</td>\n",
       "      <td>google</td>\n",
       "    </tr>\n",
       "    <tr>\n",
       "      <th>9611</th>\n",
       "      <td>Em Fuga Brasil</td>\n",
       "      <td>FAMILY</td>\n",
       "      <td>NaN</td>\n",
       "      <td>1317</td>\n",
       "      <td>0.0</td>\n",
       "      <td>60000000.0</td>\n",
       "      <td>google</td>\n",
       "    </tr>\n",
       "  </tbody>\n",
       "</table>\n",
       "</div>"
      ],
      "text/plain": [
       "                                                    app            category  \\\n",
       "3589         We learn children's verses in kindergarten           PARENTING   \n",
       "9566                                   Adivina el Emoji                GAME   \n",
       "1559                                     Young Speeches  LIBRARIES_AND_DEMO   \n",
       "321   【Ranobbe complete free】 Novelba - Free app tha...              COMICS   \n",
       "9611                                     Em Fuga Brasil              FAMILY   \n",
       "\n",
       "      rating  reviews  price  size_bytes   store  \n",
       "3589     NaN     3248    0.0   6000000.0  google  \n",
       "9566     NaN     2536    0.0  32000000.0  google  \n",
       "1559     NaN     2221    0.0   2000000.0  google  \n",
       "321      NaN     1330    0.0  22000000.0  google  \n",
       "9611     NaN     1317    0.0  60000000.0  google  "
      ]
     },
     "execution_count": 32,
     "metadata": {},
     "output_type": "execute_result"
    }
   ],
   "source": [
    "temp.sort_values(by = \"reviews\", ascending = False).head()"
   ]
  },
  {
   "cell_type": "code",
   "execution_count": 33,
   "id": "71cd1b6b-9013-4eba-b839-5e1f5f119a75",
   "metadata": {},
   "outputs": [
    {
     "name": "stdout",
     "output_type": "stream",
     "text": [
      "Before dropping null ratings (18036, 7)\n",
      "After dropping null ratings (16563, 7)\n"
     ]
    }
   ],
   "source": [
    "# Remove all rows where rating is null since our target variable is null\n",
    "print(\"Before dropping null ratings\",app_df.shape)\n",
    "app_df = app_df[app_df.rating.isnull()==False]\n",
    "print(\"After dropping null ratings\",app_df.shape)"
   ]
  },
  {
   "cell_type": "code",
   "execution_count": 34,
   "id": "de22b4eb-dfd5-41d6-8db3-d98fa1d87a0c",
   "metadata": {},
   "outputs": [
    {
     "name": "stdout",
     "output_type": "stream",
     "text": [
      "<class 'pandas.core.frame.DataFrame'>\n",
      "Int64Index: 16563 entries, 0 to 7196\n",
      "Data columns (total 7 columns):\n",
      " #   Column      Non-Null Count  Dtype  \n",
      "---  ------      --------------  -----  \n",
      " 0   app         16563 non-null  object \n",
      " 1   category    16563 non-null  object \n",
      " 2   rating      16563 non-null  float64\n",
      " 3   reviews     16563 non-null  int64  \n",
      " 4   price       16563 non-null  float64\n",
      " 5   size_bytes  14926 non-null  float64\n",
      " 6   store       16563 non-null  object \n",
      "dtypes: float64(3), int64(1), object(3)\n",
      "memory usage: 1.0+ MB\n"
     ]
    }
   ],
   "source": [
    "# Also remove all rows where reviews = 0\n",
    "app_df.info()"
   ]
  },
  {
   "cell_type": "code",
   "execution_count": 35,
   "id": "e41132bc-7eda-4811-bd54-1d5dd89da965",
   "metadata": {},
   "outputs": [
    {
     "name": "stdout",
     "output_type": "stream",
     "text": [
      "Before dropping apps with 0 reviews (16563, 7)\n",
      "After dropping apps with 0 reviews (15634, 7)\n"
     ]
    }
   ],
   "source": [
    "print(\"Before dropping apps with 0 reviews\",app_df.shape)\n",
    "app_df = app_df[app_df.reviews != 0]\n",
    "print(\"After dropping apps with 0 reviews\",app_df.shape)"
   ]
  },
  {
   "cell_type": "code",
   "execution_count": 36,
   "id": "e6a227bb-a3ea-4471-944d-20bf8915ce30",
   "metadata": {},
   "outputs": [],
   "source": [
    "app_df.reset_index(inplace = True)"
   ]
  },
  {
   "cell_type": "code",
   "execution_count": 37,
   "id": "070f2dee-c08a-4fee-9e73-1751e628d286",
   "metadata": {},
   "outputs": [],
   "source": [
    "import seaborn as sns\n",
    "import matplotlib.pyplot as plt\n",
    "\n",
    "plt.rcParams['figure.dpi'] = 100\n",
    "plt.rcParams['savefig.dpi'] = 100"
   ]
  },
  {
   "cell_type": "markdown",
   "id": "0e8ff0e1-b116-4bbd-8cda-a36661f178a1",
   "metadata": {},
   "source": [
    "The Google store has a mean app rating of 4.192, 0.142 higher than Apple store's mean app rating of 4.050. \n",
    "\n",
    "A permutation test was performed to verify if the observed difference of means between the Apple and Google store is significant.   "
   ]
  },
  {
   "cell_type": "code",
   "execution_count": 38,
   "id": "80368755-96c3-4f83-90c3-6d3c3a6403a9",
   "metadata": {
    "jupyter": {
     "source_hidden": true
    },
    "tags": []
   },
   "outputs": [
    {
     "data": {
      "text/html": [
       "<div>\n",
       "<style scoped>\n",
       "    .dataframe tbody tr th:only-of-type {\n",
       "        vertical-align: middle;\n",
       "    }\n",
       "\n",
       "    .dataframe tbody tr th {\n",
       "        vertical-align: top;\n",
       "    }\n",
       "\n",
       "    .dataframe thead th {\n",
       "        text-align: right;\n",
       "    }\n",
       "</style>\n",
       "<table border=\"1\" class=\"dataframe\">\n",
       "  <thead>\n",
       "    <tr style=\"text-align: right;\">\n",
       "      <th>store</th>\n",
       "      <th>apple</th>\n",
       "      <th>google</th>\n",
       "    </tr>\n",
       "  </thead>\n",
       "  <tbody>\n",
       "    <tr>\n",
       "      <th>count</th>\n",
       "      <td>6268.000000</td>\n",
       "      <td>9366.000000</td>\n",
       "    </tr>\n",
       "    <tr>\n",
       "      <th>mean</th>\n",
       "      <td>4.049697</td>\n",
       "      <td>4.191757</td>\n",
       "    </tr>\n",
       "    <tr>\n",
       "      <th>std</th>\n",
       "      <td>0.726943</td>\n",
       "      <td>0.515219</td>\n",
       "    </tr>\n",
       "    <tr>\n",
       "      <th>min</th>\n",
       "      <td>1.000000</td>\n",
       "      <td>1.000000</td>\n",
       "    </tr>\n",
       "    <tr>\n",
       "      <th>25%</th>\n",
       "      <td>4.000000</td>\n",
       "      <td>4.000000</td>\n",
       "    </tr>\n",
       "    <tr>\n",
       "      <th>50%</th>\n",
       "      <td>4.500000</td>\n",
       "      <td>4.300000</td>\n",
       "    </tr>\n",
       "    <tr>\n",
       "      <th>75%</th>\n",
       "      <td>4.500000</td>\n",
       "      <td>4.500000</td>\n",
       "    </tr>\n",
       "    <tr>\n",
       "      <th>max</th>\n",
       "      <td>5.000000</td>\n",
       "      <td>5.000000</td>\n",
       "    </tr>\n",
       "  </tbody>\n",
       "</table>\n",
       "</div>"
      ],
      "text/plain": [
       "store        apple       google\n",
       "count  6268.000000  9366.000000\n",
       "mean      4.049697     4.191757\n",
       "std       0.726943     0.515219\n",
       "min       1.000000     1.000000\n",
       "25%       4.000000     4.000000\n",
       "50%       4.500000     4.300000\n",
       "75%       4.500000     4.500000\n",
       "max       5.000000     5.000000"
      ]
     },
     "execution_count": 38,
     "metadata": {},
     "output_type": "execute_result"
    }
   ],
   "source": [
    "app_df.groupby(by = \"store\").rating.describe().T"
   ]
  },
  {
   "cell_type": "markdown",
   "id": "e3ff518b-8fdc-44a9-8549-7504b94c28d9",
   "metadata": {},
   "source": [
    "To appropriately select a suitable test statistic, the distributions of app ratings between Apple and Google were examined using histograms and boxplots.\n",
    "\n",
    "It was observed that app ratings are not normally distributed, meaning that a non-parametric test should be used.\n",
    "\n",
    "Further numerical testing also verified that the distributions are not normal."
   ]
  },
  {
   "cell_type": "code",
   "execution_count": 39,
   "id": "1bbe99cd-6000-4cbe-8dfb-148bfb5b0390",
   "metadata": {
    "tags": []
   },
   "outputs": [
    {
     "data": {
      "image/png": "[encoded data removed]",
      "text/plain": [
       "<Figure size 505.5x216 with 2 Axes>"
      ]
     },
     "metadata": {
      "needs_background": "light"
     },
     "output_type": "display_data"
    }
   ],
   "source": [
    "#https://seaborn.pydata.org/generated/seaborn.FacetGrid.html\n",
    "sns.set_style()\n",
    "sns.set_palette('colorblind')\n",
    "\n",
    "g = sns.FacetGrid(app_df[['rating','store']], col = 'store', col_order = list(app_df.store.sort_values().unique()))\n",
    "\n",
    "def mean_median_line(data, **kws):\n",
    "    mean = data.rating.mean()\n",
    "    median = data.rating.median()\n",
    "    ax = plt.gca()\n",
    "    ax.axvline(x = mean, c = 'r', linestyle = '--', alpha = 0.5, label = \"mean\")\n",
    "    ax.axvline(x = median, c = 'g', linestyle = '-.', alpha = 0.5, label = \"median\")\n",
    "    \n",
    "    n =len(data)    \n",
    "    ax.text(0.1, 0.9, f\"N = {n}\", transform = ax.transAxes)\n",
    "    ax.text(0.1, 0.8, f\"Mean = {round(mean,2)}\", transform = ax.transAxes)\n",
    "    ax.text(0.1, 0.7, f\"Median = {round(median,2)}\", transform = ax.transAxes)\n",
    "    \n",
    "g.map_dataframe(sns.histplot,'rating', stat = \"percent\")\n",
    "g.map_dataframe(mean_median_line)\n",
    "g.add_legend()\n",
    "g.set_axis_labels(\"App Rating (Min 1, Max 5)\",\"Percent of Data (%)\")\n",
    "g.fig.subplots_adjust(top = 0.85)\n",
    "g.fig.suptitle('Histograms for Reviews by App Store')\n",
    "plt.show\n",
    "\n",
    "#fig = g.get_figure()\n",
    "plt.savefig('Histograms for Ratings by App Store.png',\n",
    "            dpi = 300, \n",
    "            format = 'png')"
   ]
  },
  {
   "cell_type": "code",
   "execution_count": 41,
   "id": "e782c325-5a35-4396-a563-876b03f53377",
   "metadata": {
    "tags": []
   },
   "outputs": [
    {
     "data": {
      "image/png": "[encoded data removed]",
      "text/plain": [
       "<Figure size 500x500 with 1 Axes>"
      ]
     },
     "metadata": {},
     "output_type": "display_data"
    }
   ],
   "source": [
    "sns.set_style()\n",
    "sns.set_palette(\"colorblind\")\n",
    "_ = sns.catplot(data = app_df,\n",
    "                x = 'rating',\n",
    "                kind = 'box',\n",
    "                y = 'store',\n",
    "                order = list(app_df.store.sort_values().unique())\n",
    "               )\n",
    "_.fig.suptitle(\"App rating boxplot by store\",\n",
    "                x= 0.6, y= 1.03)\n",
    "_.set(xlabel = \"App Rating (Min 1, Max 5)\",\n",
    "      ylabel = \"App Store\")\n",
    "plt.yticks(rotation = 90)\n",
    "plt.show()"
   ]
  },
  {
   "cell_type": "code",
   "execution_count": 45,
   "id": "bacf8555-78e9-41d9-b254-dbd628231ed0",
   "metadata": {},
   "outputs": [
    {
     "name": "stdout",
     "output_type": "stream",
     "text": [
      "The D’Agostino and Pearson’s normality test yielded results:\n",
      "Apple:  NormaltestResult(statistic=1778.9974234584017, pvalue=0.0)\n",
      "Google:  NormaltestResult(statistic=3678.6157187516856, pvalue=0.0)\n",
      "The p-value of 0 from both tests confirms the visual observation that app ratings are not normally distributed\n"
     ]
    }
   ],
   "source": [
    "apple_normal = stats.normaltest(app_df['rating'][app_df.store == 'apple'])\n",
    "google_normal = stats.normaltest(app_df['rating'][app_df.store == 'google'])\n",
    "print('The D’Agostino and Pearson’s normality test yielded results:')\n",
    "print('Apple: ', apple_normal)\n",
    "print('Google: ', google_normal)\n",
    "print('The p-value of 0 from both tests confirms the visual observation that app ratings are not normally distributed')\n"
   ]
  },
  {
   "cell_type": "markdown",
   "id": "0e748b6e-36cc-41cf-be8f-d2884fe3edd0",
   "metadata": {},
   "source": [
    "# Permutation Testing\n",
    "\n",
    "### Null hypothesis:\n",
    "\n",
    "**H<sub>null</sub>**: the observed difference in the mean app rating between Apple and Google store is due to chance and is not significant.\n",
    "\n",
    "**H<sub>alternative</sub>**: the observed difference in the mean app rating between Apple and Google store is **not** due to chance and **is** significant.\n",
    "\n",
    "### Methodology:\n",
    "1. Assume that the app stores of Google and Apple have no impact on rating.\n",
    "2. While keeping the store constant, the rating column was shuffled. Based on aforementioned assumption, the null hypothesis is not proven false if the replicate of the test statistic, the difference of app rating means between stores, is similar to the observed difference of 0.142.\n",
    "3. 10000 replicate samples and replicates were taken."
   ]
  },
  {
   "cell_type": "code",
   "execution_count": 50,
   "id": "d7f96266-5277-4f7f-bcb1-9a0904ee1f7a",
   "metadata": {},
   "outputs": [],
   "source": [
    "def diff_of_mean(data1, data2, func = np.mean):\n",
    "    \"\"\" Test statistic for difference of means\"\"\"\n",
    "    return func(data2)-func(data1)\n",
    "\n",
    "def permutation_sample(data1, data2):\n",
    "    \"\"\"Generate a permutation sample from two data sets.\"\"\"\n",
    "\n",
    "    # Concatenate the data sets: data\n",
    "    data = np.concatenate((data1, data2))\n",
    "\n",
    "    # Permute the concatenated array: permuted_data\n",
    "    permuted_data = np.random.permutation(data)\n",
    "\n",
    "    # Split the permuted array into two: perm_sample_1, perm_sample_2\n",
    "    perm_sample_1 = permuted_data[:len(data1)]\n",
    "    perm_sample_2 = permuted_data[len(data1):]\n",
    "\n",
    "    return perm_sample_1, perm_sample_2\n",
    "\n",
    "def draw_perm_reps(data_1, data_2, func, size =1):\n",
    "    \"\"\"Generate multiple permutation replicates.\"\"\"\n",
    "\n",
    "    # Initialize array of replicates: perm_replicates\n",
    "    perm_replicates = np.empty(size)\n",
    "\n",
    "    for i in range(size):\n",
    "        # Generate permutation sample\n",
    "        perm_sample_1, perm_sample_2 = permutation_sample(data_1,data_2)\n",
    "\n",
    "        # Compute the test statistic\n",
    "        perm_replicates[i] = func(perm_sample_1,perm_sample_2)\n",
    "\n",
    "    return perm_replicates"
   ]
  },
  {
   "cell_type": "code",
   "execution_count": 51,
   "id": "fc237fb3-3af8-4f1e-b697-c8a6c4ef4d78",
   "metadata": {},
   "outputs": [],
   "source": [
    "apple = app_df.rating[app_df.store == 'apple']\n",
    "google = app_df.rating[app_df.store == 'google']\n",
    "\n",
    "permutation_replicates = draw_perm_reps(apple, google, diff_of_mean,10000)"
   ]
  },
  {
   "cell_type": "code",
   "execution_count": 79,
   "id": "4ee16930-0856-4e19-bf42-e5e858f79be2",
   "metadata": {},
   "outputs": [
    {
     "data": {
      "image/png": "[encoded data removed]",
      "text/plain": [
       "<Figure size 640x480 with 1 Axes>"
      ]
     },
     "metadata": {},
     "output_type": "display_data"
    }
   ],
   "source": [
    "sns.set_style()\n",
    "sns.set_palette('colorblind')\n",
    "\n",
    "_ = sns.histplot(data = permutation_replicates,\n",
    "                element = 'step',\n",
    "                fill = False)\n",
    "\n",
    "_ = plt.axvline(diff_of_mean(apple,google), color='r')\n",
    "plt.title(\"10,000 replicates for difference of mean between apple and google\", y =1.03)\n",
    "plt.xlabel(\"Difference of Mean between Apple and Google stores\")\n",
    "plt.ylabel(\"Replicate Counts\")\n",
    "\n",
    "plt.annotate(\"Observed difference of 0.142\", xy = (diff_of_mean(apple,google),300), \n",
    "xytext = (diff_of_mean(apple,google)-0.10,300), \n",
    "arrowprops = {\"arrowstyle\":\"->\", \"color\":\"gray\"})\n",
    "\n",
    "plt.show()\n"
   ]
  },
  {
   "cell_type": "code",
   "execution_count": 66,
   "id": "dc9cf4a9-e1d7-4f87-b47a-60b332f4fb55",
   "metadata": {},
   "outputs": [
    {
     "name": "stdout",
     "output_type": "stream",
     "text": [
      "p-value for hypothesis test:  0.0\n"
     ]
    }
   ],
   "source": [
    "p_value = np.sum(permutation_replicates[permutation_replicates > diff_of_mean(apple, google)])/len(permutation_replicates)\n",
    "print('p-value for hypothesis test: ',p_value)"
   ]
  },
  {
   "cell_type": "markdown",
   "id": "6177c18d-b30a-4383-9509-9e788e21ff7e",
   "metadata": {},
   "source": [
    "# Conclusion:\n",
    "\n",
    "Based on 10,000 replicates generated from the permutation test, a p-value of 0 allows the rejection of the null hypothesis.\n",
    "\n",
    "The observed difference of 0.142 in the mean of app ratings between the Apple and Google store is significant.\n",
    "\n",
    "Thus, it is recommended that the client focus on integrating Google Play first."
   ]
  }
 ],
 "metadata": {
  "kernelspec": {
   "display_name": "Python 3 (ipykernel)",
   "language": "python",
   "name": "python3"
  },
  "language_info": {
   "codemirror_mode": {
    "name": "ipython",
    "version": 3
   },
   "file_extension": ".py",
   "mimetype": "text/x-python",
   "name": "python",
   "nbconvert_exporter": "python",
   "pygments_lexer": "ipython3",
   "version": "3.9.12"
  }
 },
 "nbformat": 4,
 "nbformat_minor": 5
}
