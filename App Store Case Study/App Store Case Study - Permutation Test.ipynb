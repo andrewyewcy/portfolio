{
 "cells": [
  {
   "cell_type": "markdown",
   "id": "c09898dd-4f15-4eb0-8f70-b3d5acc331fc",
   "metadata": {
    "tags": []
   },
   "source": [
    "# App Store Case Study\n",
    "by: Andrew Yew andrewyewcy@gmail.com, last updated: 2022-06-16\n",
    "\n",
    "### <u> Summary</u>\n",
    "With limited manpower for app development, this study examines if there is a significant difference in app ratings between Google Play Store and Apple App Store to determine which store should an app be developed for to get higher ratings. A permutation test was performed on data gathered from both app stores to verify the observed difference between the two app stores. In conclusion, Google Play Store was observed to have a mean rating of 4.174, which was 0.124 higher than the mean rating of 4.050 for the Apple App Store. This difference was confirmed to be not due to randomness with a p-value of 0 from 10,000 replicates. Thus, it is recommended that the app be developed for the Google Play Store first.\n",
    "\n",
    "### <u>Methodology</u>\n",
    "**1) Problem Identification**  \n",
    "Due to limited manpower, the app can only be developed for either the Apple App Store or the Google Play Store. The Key Performance Index(KPI) for app development is the average rating of the app. It is assumed that the largest factor affecting average app rating is the store. Thus, verification is needed on the difference of average app ratings between stores, and, if it is significant, which store should be prioritized for app development.\n",
    "\n",
    "**2) Data Acquisition**  \n",
    "The web scraped data for both app stores were accessed from Kaggle ([Apple App Data](https://www.kaggle.com/datasets/ramamet4/app-store-apple-data-set-10k-apps?resource=download), [Google App Data](https://www.kaggle.com/lava18/google-play-store-apps)).\n",
    "\n",
    "**3) Data Pre-processing**  \n",
    "Data wrangling was performed using the Pandas library. Only relevant variables(columns) were selected. Apps without ratings or reviews were removed from analysis. \n",
    "\n",
    "**4) Exploratory Data Analysis**  \n",
    "Histograms and boxplots were used to examine the distributions of app ratings between the Google and Apple stores. As app ratings were found to be not normally distributed, the non-parametric test of permutation testing was used.\n",
    "\n",
    "**5) Modeling (Null Hypothesis and Permutation Test)**  \n",
    "The test statistic was determined to be the difference of means for the app ratings between stores. The app stores were fixed while the numpy random permutation function was used to scramble the app ratings. 10,000 replicates of the test statistic were generated to calculate the p-value for the null hypothesis."
   ]
  },
  {
   "cell_type": "code",
   "execution_count": 1,
   "id": "a98849a8-be4b-4502-a46a-7e9a2a01c45b",
   "metadata": {
    "tags": []
   },
   "outputs": [],
   "source": [
    "# Importing python modules\n",
    "import numpy as np\n",
    "import pandas as pd\n",
    "import matplotlib.pyplot as plt\n",
    "import seaborn as sns\n",
    "\n",
    "plt.rcParams['figure.dpi'] = 100\n",
    "plt.rcParams['savefig.dpi'] = 100\n",
    "sns.set_style()\n",
    "sns.set_palette('colorblind')\n",
    "\n",
    "from scipy import stats"
   ]
  },
  {
   "cell_type": "markdown",
   "id": "a443bb93-e7f3-435e-8d2d-4d726c20ee8e",
   "metadata": {},
   "source": [
    "## Step 2: Data Acquisition"
   ]
  },
  {
   "cell_type": "markdown",
   "id": "1709ac47-6851-4ce0-a0bc-69e7545c4fa3",
   "metadata": {
    "tags": []
   },
   "source": [
    "##### Google Play Store Data"
   ]
  },
  {
   "cell_type": "code",
   "execution_count": 2,
   "id": "2884bd51-0da3-4b5d-b0c9-57edc5edb377",
   "metadata": {
    "tags": []
   },
   "outputs": [
    {
     "name": "stdout",
     "output_type": "stream",
     "text": [
      "<class 'pandas.core.frame.DataFrame'>\n",
      "RangeIndex: 10841 entries, 0 to 10840\n",
      "Data columns (total 6 columns):\n",
      " #   Column    Non-Null Count  Dtype  \n",
      "---  ------    --------------  -----  \n",
      " 0   app       10841 non-null  object \n",
      " 1   category  10841 non-null  object \n",
      " 2   rating    9367 non-null   float64\n",
      " 3   reviews   10841 non-null  object \n",
      " 4   size      10841 non-null  object \n",
      " 5   price     10841 non-null  object \n",
      "dtypes: float64(1), object(5)\n",
      "memory usage: 508.3+ KB\n"
     ]
    }
   ],
   "source": [
    "google = \"data/googleplaystore.csv\"\n",
    "df = pd.read_csv(google)\n",
    "\n",
    "# tidying dataframe columns to ensure consistent capitalization and no spaces or non-alphabet characters\n",
    "old_columns = pd.DataFrame(list(df.columns),columns = [\"old\"])\n",
    "old_columns['new']= old_columns.old.str.replace('[^\\w\\s]','',regex = True).str.replace(' ','_').str.lower()\n",
    "df.rename(columns = dict(zip(old_columns.old,old_columns.new)), inplace =True)\n",
    "\n",
    "# Comparing with the Apple App Store data, \n",
    "# only the below columns found to be useful and the rest were dropped.\n",
    "google_df = df[['app','category','rating','reviews','size','price']]\n",
    "google_df.info()"
   ]
  },
  {
   "cell_type": "markdown",
   "id": "c2451f89-94a7-4d02-8440-fbecf23db2a9",
   "metadata": {
    "tags": []
   },
   "source": [
    "##### Apple App Store data"
   ]
  },
  {
   "cell_type": "code",
   "execution_count": 3,
   "id": "f0cea3cc-6ff2-4a0e-a4ac-dac0f05757c7",
   "metadata": {
    "tags": []
   },
   "outputs": [
    {
     "name": "stdout",
     "output_type": "stream",
     "text": [
      "<class 'pandas.core.frame.DataFrame'>\n",
      "RangeIndex: 7197 entries, 0 to 7196\n",
      "Data columns (total 6 columns):\n",
      " #   Column            Non-Null Count  Dtype  \n",
      "---  ------            --------------  -----  \n",
      " 0   track_name        7197 non-null   object \n",
      " 1   prime_genre       7197 non-null   object \n",
      " 2   user_rating       7197 non-null   float64\n",
      " 3   rating_count_tot  7197 non-null   int64  \n",
      " 4   price             7197 non-null   float64\n",
      " 5   size_bytes        7197 non-null   int64  \n",
      "dtypes: float64(2), int64(2), object(2)\n",
      "memory usage: 337.5+ KB\n"
     ]
    }
   ],
   "source": [
    "apple = \"data/AppleStore.csv\"\n",
    "df = pd.read_csv(apple)\n",
    "\n",
    "# tidying dataframe columns to ensure consistent capitalization and no spaces or non-alphabet characters\n",
    "old_columns = pd.DataFrame(list(df.columns),columns = [\"old\"])\n",
    "old_columns['new']= old_columns.old.str.replace('[^\\w\\s]','',regex = True).str.replace(' ','_').str.lower()\n",
    "df.rename(columns = dict(zip(old_columns.old,old_columns.new)), inplace =True)\n",
    "\n",
    "# Comparing with the Google Play Store data, \n",
    "# only the below columns found to be useful and the rest were dropped.\n",
    "apple_df = df[['track_name','prime_genre','user_rating','rating_count_tot','price','size_bytes']]\n",
    "apple_df.info()"
   ]
  },
  {
   "cell_type": "markdown",
   "id": "4385002f-2b5a-4e19-8e77-99921dcb311d",
   "metadata": {},
   "source": [
    "## Step 3: Data Pre-processing"
   ]
  },
  {
   "cell_type": "markdown",
   "id": "e248f573-c125-4018-8e89-2686676f5b93",
   "metadata": {
    "tags": []
   },
   "source": [
    "### Cleaning Google Play Store data\n",
    "Observing the data types of each column with reference to the first few rows:  \n",
    "a) 'reviews' should be an integer instead of object  \n",
    "b) 'size' should be an integer or float instead of object  \n",
    "c) 'price' should be integer or float instead of object  "
   ]
  },
  {
   "cell_type": "markdown",
   "id": "2caedc2c-8bb7-426f-887d-1fc27f873d96",
   "metadata": {
    "tags": []
   },
   "source": [
    "##### a) Cleaning 'reviews'"
   ]
  },
  {
   "cell_type": "code",
   "execution_count": 4,
   "id": "f16bdb2e-20e9-4fcd-9623-beb34dd2a87b",
   "metadata": {},
   "outputs": [
    {
     "data": {
      "text/html": [
       "<div>\n",
       "<style scoped>\n",
       "    .dataframe tbody tr th:only-of-type {\n",
       "        vertical-align: middle;\n",
       "    }\n",
       "\n",
       "    .dataframe tbody tr th {\n",
       "        vertical-align: top;\n",
       "    }\n",
       "\n",
       "    .dataframe thead th {\n",
       "        text-align: right;\n",
       "    }\n",
       "</style>\n",
       "<table border=\"1\" class=\"dataframe\">\n",
       "  <thead>\n",
       "    <tr style=\"text-align: right;\">\n",
       "      <th></th>\n",
       "      <th>app</th>\n",
       "      <th>category</th>\n",
       "      <th>rating</th>\n",
       "      <th>reviews</th>\n",
       "      <th>size</th>\n",
       "      <th>price</th>\n",
       "    </tr>\n",
       "  </thead>\n",
       "  <tbody>\n",
       "    <tr>\n",
       "      <th>10472</th>\n",
       "      <td>Life Made WI-Fi Touchscreen Photo Frame</td>\n",
       "      <td>1.9</td>\n",
       "      <td>19.0</td>\n",
       "      <td>3.0M</td>\n",
       "      <td>1,000+</td>\n",
       "      <td>Everyone</td>\n",
       "    </tr>\n",
       "  </tbody>\n",
       "</table>\n",
       "</div>"
      ],
      "text/plain": [
       "                                           app category  rating reviews  \\\n",
       "10472  Life Made WI-Fi Touchscreen Photo Frame      1.9    19.0    3.0M   \n",
       "\n",
       "         size     price  \n",
       "10472  1,000+  Everyone  "
      ]
     },
     "execution_count": 4,
     "metadata": {},
     "output_type": "execute_result"
    }
   ],
   "source": [
    "# Filtering all rows where review is not a number\n",
    "google_df.loc[google_df.reviews.str.isnumeric()==False]"
   ]
  },
  {
   "cell_type": "code",
   "execution_count": 5,
   "id": "50ad4d7f-56dc-4829-8577-58a92f4d7327",
   "metadata": {},
   "outputs": [
    {
     "name": "stdout",
     "output_type": "stream",
     "text": [
      "Size before dropping:  (10841, 6)\n",
      "Size after dropping:  (10840, 6)\n"
     ]
    }
   ],
   "source": [
    "# upon closer inspection, row's data does not make sense and is therefore dropped\n",
    "print(\"Size before dropping: \", google_df.shape)\n",
    "google_df.drop(google_df.loc[google_df.reviews.str.isnumeric()==False].index, inplace = True)\n",
    "google_df.reset_index(drop = True, inplace = True);\n",
    "print(\"Size after dropping: \", google_df.shape)\n",
    "\n",
    "# convert df reviews to integer type\n",
    "google_df.reviews = google_df.reviews.astype('int64')"
   ]
  },
  {
   "cell_type": "markdown",
   "id": "5fa44030-a321-41a2-9277-37b2b9c3ef9e",
   "metadata": {
    "tags": []
   },
   "source": [
    "##### b) Cleaning 'size'  \n",
    "The size column was observed to contain various units of size, such as kilobytes and megabytes. All units were converted to bytes to ensure consistency."
   ]
  },
  {
   "cell_type": "code",
   "execution_count": 6,
   "id": "7ce6f273-0ec2-420c-bbf4-33c47a61ca99",
   "metadata": {},
   "outputs": [
    {
     "data": {
      "text/plain": [
       "0     19M\n",
       "1     14M\n",
       "2    8.7M\n",
       "3     25M\n",
       "4    2.8M\n",
       "Name: size, dtype: object"
      ]
     },
     "execution_count": 6,
     "metadata": {},
     "output_type": "execute_result"
    }
   ],
   "source": [
    "google_df['size'].head()"
   ]
  },
  {
   "cell_type": "markdown",
   "id": "06017540-30f3-47bc-957b-dc5ba67d52cb",
   "metadata": {},
   "source": [
    "To better understand how many size units were used, the units were extracted and grouped for counting. It was found that 1,695 out of 10,840 apps have \"Varies with device\" as size. The size for these apps were replaced to be null. "
   ]
  },
  {
   "cell_type": "code",
   "execution_count": 7,
   "id": "68560042-e589-4254-8982-92cd04ce39a7",
   "metadata": {},
   "outputs": [
    {
     "data": {
      "text/plain": [
       "size_unit  size_unit\n",
       "m          m            8829\n",
       "e          e            1695\n",
       "k          k             316\n",
       "Name: size_unit, dtype: int64"
      ]
     },
     "execution_count": 7,
     "metadata": {},
     "output_type": "execute_result"
    }
   ],
   "source": [
    "google_df['size_unit'] = google_df['size'].str.lower().str[-1]\n",
    "google_df['numbers']= google_df['size'].str.extract('(\\d+)').astype(float)\n",
    "google_df['size_unit'].groupby(google_df['size_unit']).value_counts().sort_values(ascending=False)"
   ]
  },
  {
   "cell_type": "code",
   "execution_count": 8,
   "id": "2b50031f-f98e-4b79-bf01-e9b84e65ad45",
   "metadata": {},
   "outputs": [],
   "source": [
    "# creating a new column to store converted size\n",
    "google_df['size_bytes'] = np.NaN\n",
    "\n",
    "# loop to convert each size into bytes or null values\n",
    "for row in range(len(google_df)):\n",
    "    if google_df.loc[row,'size_unit'] == 'k':\n",
    "        google_df.loc[row,'size_bytes'] = google_df.loc[row,'numbers']*1000\n",
    "    elif google_df.loc[row,'size_unit'] == 'm':\n",
    "        google_df.loc[row,'size_bytes'] = google_df.loc[row,'numbers']*1000000\n",
    "    else: google_df.loc[row,'size_bytes'] = 0"
   ]
  },
  {
   "cell_type": "code",
   "execution_count": 9,
   "id": "e0463a05-74da-412e-b0b1-b74cf4282e37",
   "metadata": {},
   "outputs": [],
   "source": [
    "# dropping all columns aside from converted size\n",
    "google_df.drop(['size_unit','numbers', 'size'], inplace = True, axis = 1)\n",
    "google_df.size_bytes = google_df.size_bytes.astype('int64')"
   ]
  },
  {
   "cell_type": "markdown",
   "id": "cfdcc369-b6ea-4db9-ac75-1e6f0182057a",
   "metadata": {
    "tags": []
   },
   "source": [
    "##### c) Cleaning 'price'  \n",
    "The price column was observed to contain non-numeric characters. These characters were removed and the data type converted to float."
   ]
  },
  {
   "cell_type": "code",
   "execution_count": 10,
   "id": "1fa94be5-9e69-4849-9fb4-f4713124945c",
   "metadata": {},
   "outputs": [
    {
     "data": {
      "text/plain": [
       "array(['0', '$4.99', '$3.99', '$6.99', '$1.49', '$2.99', '$7.99', '$5.99',\n",
       "       '$3.49', '$1.99', '$9.99', '$7.49', '$0.99', '$9.00', '$5.49',\n",
       "       '$10.00', '$24.99', '$11.99', '$79.99', '$16.99', '$14.99',\n",
       "       '$1.00', '$29.99', '$12.99', '$2.49', '$10.99', '$1.50', '$19.99',\n",
       "       '$15.99', '$33.99', '$74.99', '$39.99', '$3.95', '$4.49', '$1.70',\n",
       "       '$8.99', '$2.00', '$3.88', '$25.99', '$399.99', '$17.99',\n",
       "       '$400.00', '$3.02', '$1.76', '$4.84', '$4.77', '$1.61', '$2.50',\n",
       "       '$1.59', '$6.49', '$1.29', '$5.00', '$13.99', '$299.99', '$379.99',\n",
       "       '$37.99', '$18.99', '$389.99', '$19.90', '$8.49', '$1.75',\n",
       "       '$14.00', '$4.85', '$46.99', '$109.99', '$154.99', '$3.08',\n",
       "       '$2.59', '$4.80', '$1.96', '$19.40', '$3.90', '$4.59', '$15.46',\n",
       "       '$3.04', '$4.29', '$2.60', '$3.28', '$4.60', '$28.99', '$2.95',\n",
       "       '$2.90', '$1.97', '$200.00', '$89.99', '$2.56', '$30.99', '$3.61',\n",
       "       '$394.99', '$1.26', '$1.20', '$1.04'], dtype=object)"
      ]
     },
     "execution_count": 10,
     "metadata": {},
     "output_type": "execute_result"
    }
   ],
   "source": [
    "google_df.price.unique()"
   ]
  },
  {
   "cell_type": "code",
   "execution_count": 11,
   "id": "6fcd36b0-1b46-4869-82df-f70b7c763929",
   "metadata": {},
   "outputs": [],
   "source": [
    "google_df.price = google_df.price.str.replace('$', '',regex =False)\n",
    "google_df.price = google_df.price.astype(float)"
   ]
  },
  {
   "cell_type": "markdown",
   "id": "2a93be2f-08db-4a89-9b0b-80a94af536ea",
   "metadata": {
    "tags": []
   },
   "source": [
    "##### Reviewing cleaned Google data"
   ]
  },
  {
   "cell_type": "code",
   "execution_count": 12,
   "id": "8cdbcead-89bb-469f-b4b8-145005d20ac8",
   "metadata": {},
   "outputs": [
    {
     "name": "stdout",
     "output_type": "stream",
     "text": [
      "Size before dropping:  (10840, 6)\n",
      "Size after dropping:  (7729, 6)\n",
      "<class 'pandas.core.frame.DataFrame'>\n",
      "RangeIndex: 7729 entries, 0 to 7728\n",
      "Data columns (total 6 columns):\n",
      " #   Column      Non-Null Count  Dtype  \n",
      "---  ------      --------------  -----  \n",
      " 0   app         7729 non-null   object \n",
      " 1   category    7729 non-null   object \n",
      " 2   rating      7729 non-null   float64\n",
      " 3   reviews     7729 non-null   int64  \n",
      " 4   price       7729 non-null   float64\n",
      " 5   size_bytes  7729 non-null   int64  \n",
      "dtypes: float64(2), int64(2), object(2)\n",
      "memory usage: 362.4+ KB\n"
     ]
    }
   ],
   "source": [
    "# Dropping null ratings, 0 reviews, and size = 0\n",
    "print(\"Size before dropping: \", google_df.shape)\n",
    "google_df.drop(google_df.loc[(google_df['rating'].isnull() == True) | \n",
    "                             (google_df['reviews'] == 0) | \n",
    "                             (google_df['size_bytes'] == 0)].index, inplace = True)\n",
    "google_df.reset_index(drop = True, inplace = True);\n",
    "print(\"Size after dropping: \", google_df.shape)\n",
    "\n",
    "google_df.info()"
   ]
  },
  {
   "cell_type": "markdown",
   "id": "c7abe8f1-5c03-4186-93ef-e19906186712",
   "metadata": {
    "tags": []
   },
   "source": [
    "### Cleaning Apple App Store data\n",
    "As the data types for the Apple App Store data are already as needed, only the columns were renamed for consistency with Google Play Store."
   ]
  },
  {
   "cell_type": "code",
   "execution_count": 13,
   "id": "6f00da82-8122-4ce6-983a-65bb485164c7",
   "metadata": {},
   "outputs": [],
   "source": [
    "apple_df = apple_df.rename(columns = dict(zip(apple_df.columns,list(google_df.columns))))"
   ]
  },
  {
   "cell_type": "markdown",
   "id": "f1dbb0ac-a6c6-44ea-ae24-7850e818e630",
   "metadata": {
    "tags": []
   },
   "source": [
    "##### Reviewing cleaned Apple data"
   ]
  },
  {
   "cell_type": "code",
   "execution_count": 14,
   "id": "e1c52d1e-936a-4787-b327-f50e6b1a1a4d",
   "metadata": {
    "tags": []
   },
   "outputs": [
    {
     "name": "stdout",
     "output_type": "stream",
     "text": [
      "Size before dropping:  (7197, 6)\n",
      "Size after dropping:  (6268, 6)\n",
      "<class 'pandas.core.frame.DataFrame'>\n",
      "RangeIndex: 6268 entries, 0 to 6267\n",
      "Data columns (total 6 columns):\n",
      " #   Column      Non-Null Count  Dtype  \n",
      "---  ------      --------------  -----  \n",
      " 0   app         6268 non-null   object \n",
      " 1   category    6268 non-null   object \n",
      " 2   rating      6268 non-null   float64\n",
      " 3   reviews     6268 non-null   int64  \n",
      " 4   price       6268 non-null   float64\n",
      " 5   size_bytes  6268 non-null   int64  \n",
      "dtypes: float64(2), int64(2), object(2)\n",
      "memory usage: 293.9+ KB\n"
     ]
    }
   ],
   "source": [
    "# Dropping null ratings, 0 reviews, and size = 0\n",
    "print(\"Size before dropping: \", apple_df.shape)\n",
    "apple_df.drop(apple_df.loc[(apple_df['rating'].isnull() == True) | \n",
    "                             (apple_df['reviews'] == 0) | \n",
    "                             (apple_df['size_bytes'] == 0)].index, inplace = True)\n",
    "apple_df.reset_index(drop = True, inplace = True);\n",
    "print(\"Size after dropping: \", apple_df.shape)\n",
    "\n",
    "apple_df.info()"
   ]
  },
  {
   "cell_type": "markdown",
   "id": "716dc81a-37a6-4327-9654-1619eb2aa275",
   "metadata": {
    "tags": []
   },
   "source": [
    "### Combining app data from both Apple and Google"
   ]
  },
  {
   "cell_type": "code",
   "execution_count": 15,
   "id": "7c2ebde4-8bf6-4ef8-a24b-e1c675756501",
   "metadata": {},
   "outputs": [
    {
     "name": "stdout",
     "output_type": "stream",
     "text": [
      "Google data size before append:  (7729, 7)\n",
      "Apple data size before append:  (6268, 7)\n",
      "Size after append:  (13997, 7)\n"
     ]
    }
   ],
   "source": [
    "google_df['store'] = \"google\"\n",
    "apple_df['store'] = \"apple\"\n",
    "\n",
    "print(\"Google data size before append: \", google_df.shape)\n",
    "print(\"Apple data size before append: \", apple_df.shape)\n",
    "app_df = pd.concat([google_df, apple_df])\n",
    "app_df.reset_index(drop = True, inplace = True)\n",
    "print(\"Size after append: \", app_df.shape)"
   ]
  },
  {
   "cell_type": "code",
   "execution_count": 16,
   "id": "34a61d95-c66a-413b-bce7-4e5168e7a6bb",
   "metadata": {},
   "outputs": [],
   "source": [
    "app_df.to_csv('processed_data/app_data_clean.csv', index = False, encoding = 'utf-8')              "
   ]
  },
  {
   "cell_type": "markdown",
   "id": "539045ec-39fc-4396-9440-0848839ac301",
   "metadata": {
    "tags": []
   },
   "source": [
    "## Step 4 Exploratory Data Analysis"
   ]
  },
  {
   "cell_type": "markdown",
   "id": "4faa5fc1-367c-4a0d-92c3-4e60f6a3f7f7",
   "metadata": {},
   "source": [
    "The Google store has a mean app rating of 4.174, 0.124 higher than Apple store's mean app rating of 4.050.\n",
    "\n",
    "As the difference of means is quite small, 0.124 or 3.06% higher than Apple App Store, it is reasonable to doubt if difference is due to randomness. Thus, a statistical test is needed to confirm significane of observed difference of mean."
   ]
  },
  {
   "cell_type": "code",
   "execution_count": 17,
   "id": "070f2dee-c08a-4fee-9e73-1751e628d286",
   "metadata": {},
   "outputs": [
    {
     "data": {
      "text/html": [
       "<div>\n",
       "<style scoped>\n",
       "    .dataframe tbody tr th:only-of-type {\n",
       "        vertical-align: middle;\n",
       "    }\n",
       "\n",
       "    .dataframe tbody tr th {\n",
       "        vertical-align: top;\n",
       "    }\n",
       "\n",
       "    .dataframe thead th {\n",
       "        text-align: right;\n",
       "    }\n",
       "</style>\n",
       "<table border=\"1\" class=\"dataframe\">\n",
       "  <thead>\n",
       "    <tr style=\"text-align: right;\">\n",
       "      <th>store</th>\n",
       "      <th>apple</th>\n",
       "      <th>google</th>\n",
       "    </tr>\n",
       "  </thead>\n",
       "  <tbody>\n",
       "    <tr>\n",
       "      <th>count</th>\n",
       "      <td>6268.000</td>\n",
       "      <td>7729.000</td>\n",
       "    </tr>\n",
       "    <tr>\n",
       "      <th>mean</th>\n",
       "      <td>4.050</td>\n",
       "      <td>4.174</td>\n",
       "    </tr>\n",
       "    <tr>\n",
       "      <th>std</th>\n",
       "      <td>0.727</td>\n",
       "      <td>0.545</td>\n",
       "    </tr>\n",
       "    <tr>\n",
       "      <th>min</th>\n",
       "      <td>1.000</td>\n",
       "      <td>1.000</td>\n",
       "    </tr>\n",
       "    <tr>\n",
       "      <th>25%</th>\n",
       "      <td>4.000</td>\n",
       "      <td>4.000</td>\n",
       "    </tr>\n",
       "    <tr>\n",
       "      <th>50%</th>\n",
       "      <td>4.500</td>\n",
       "      <td>4.300</td>\n",
       "    </tr>\n",
       "    <tr>\n",
       "      <th>75%</th>\n",
       "      <td>4.500</td>\n",
       "      <td>4.500</td>\n",
       "    </tr>\n",
       "    <tr>\n",
       "      <th>max</th>\n",
       "      <td>5.000</td>\n",
       "      <td>5.000</td>\n",
       "    </tr>\n",
       "  </tbody>\n",
       "</table>\n",
       "</div>"
      ],
      "text/plain": [
       "store     apple    google\n",
       "count  6268.000  7729.000\n",
       "mean      4.050     4.174\n",
       "std       0.727     0.545\n",
       "min       1.000     1.000\n",
       "25%       4.000     4.000\n",
       "50%       4.500     4.300\n",
       "75%       4.500     4.500\n",
       "max       5.000     5.000"
      ]
     },
     "execution_count": 17,
     "metadata": {},
     "output_type": "execute_result"
    }
   ],
   "source": [
    "app_df.groupby(by = \"store\").rating.describe().T.round(3)"
   ]
  },
  {
   "cell_type": "markdown",
   "id": "e3ff518b-8fdc-44a9-8549-7504b94c28d9",
   "metadata": {},
   "source": [
    "The test statistic is the difference of means for ratings between the Apple and the Google stores.\n",
    "\n",
    "To appropriately select a suitable testing method, the distributions of app ratings between Apple and Google were examined using histograms and boxplots.\n",
    "\n",
    "It was observed that app ratings are not normally distributed, meaning that a non-parametric test should be used.\n",
    "\n",
    "Furthermore, the interquartile range (IQR) for both stores are between 4 and 4.5."
   ]
  },
  {
   "cell_type": "code",
   "execution_count": 18,
   "id": "1bbe99cd-6000-4cbe-8dfb-148bfb5b0390",
   "metadata": {
    "tags": []
   },
   "outputs": [
    {
     "data": {
      "image/png": "[encoded data removed]",
      "text/plain": [
       "<Figure size 793.5x360 with 2 Axes>"
      ]
     },
     "metadata": {
      "needs_background": "light"
     },
     "output_type": "display_data"
    }
   ],
   "source": [
    "#https://seaborn.pydata.org/generated/seaborn.FacetGrid.html\n",
    "g = sns.FacetGrid(app_df[['rating','store']], col = 'store', col_order = list(app_df.store.sort_values().unique()),height = 5)\n",
    "\n",
    "def mean_median_line(data, **kws):\n",
    "    mean = data.rating.mean()\n",
    "    median = data.rating.median()\n",
    "    ax = plt.gca()\n",
    "    ax.axvline(x = mean, c = 'r', linestyle = '--', alpha = 0.5, label = \"mean\")\n",
    "    ax.axvline(x = median, c = 'g', linestyle = '-.', alpha = 0.5, label = \"median\")\n",
    "    \n",
    "    n =len(data)    \n",
    "    ax.text(0.1, 0.9, f\"N = {n}\", transform = ax.transAxes)\n",
    "    ax.text(0.1, 0.8, f\"Mean = {round(mean,3)}\", transform = ax.transAxes)\n",
    "    ax.text(0.1, 0.7, f\"Median = {round(median,3)}\", transform = ax.transAxes)\n",
    "    \n",
    "g.map_dataframe(sns.histplot,'rating', stat = \"percent\")\n",
    "g.map_dataframe(mean_median_line)\n",
    "g.add_legend()\n",
    "g.set_axis_labels(\"App Rating (Min 1, Max 5)\",\"Percent of Data (%)\")\n",
    "g.fig.subplots_adjust(top = 0.85)\n",
    "g.fig.suptitle('App Rating Distribution by App Store (Histogram)')\n",
    "plt.show\n",
    "\n",
    "#fig = g.get_figure()\n",
    "plt.savefig('App Rating Distribution by App Store_Histogram.png',\n",
    "            dpi = 300, \n",
    "            format = 'png')"
   ]
  },
  {
   "cell_type": "code",
   "execution_count": 19,
   "id": "e782c325-5a35-4396-a563-876b03f53377",
   "metadata": {
    "tags": []
   },
   "outputs": [
    {
     "data": {
      "image/png": "[encoded data removed]",
      "text/plain": [
       "<Figure size 500x500 with 1 Axes>"
      ]
     },
     "metadata": {},
     "output_type": "display_data"
    }
   ],
   "source": [
    "_ = sns.catplot(data = app_df,\n",
    "                x = 'rating',\n",
    "                kind = 'box',\n",
    "                y = 'store',\n",
    "                order = list(app_df.store.sort_values().unique())\n",
    "               )\n",
    "_.fig.suptitle(\"App Rating Distribution by App Store (Boxplot)\",\n",
    "                x= 0.6, y= 1.03)\n",
    "_.set(xlabel = \"App Rating (Min 1, Max 5)\",\n",
    "      ylabel = \"App Store\")\n",
    "plt.yticks(rotation = 90)\n",
    "\n",
    "plt.savefig('App Rating Distribution by App Store_Boxplot.png',\n",
    "            dpi = 300, \n",
    "            format = 'png')\n",
    "plt.show()"
   ]
  },
  {
   "cell_type": "markdown",
   "id": "20b000e1-45a2-44c0-a215-a6059298be00",
   "metadata": {},
   "source": [
    "Further numerical testing also verified that the distributions are not normal."
   ]
  },
  {
   "cell_type": "code",
   "execution_count": 20,
   "id": "bacf8555-78e9-41d9-b254-dbd628231ed0",
   "metadata": {
    "jupyter": {
     "source_hidden": true
    },
    "tags": []
   },
   "outputs": [
    {
     "name": "stdout",
     "output_type": "stream",
     "text": [
      "The D’Agostino and Pearson’s normality test yielded p-values:\n",
      "Apple:  0.0\n",
      "Google:  0.0\n",
      "The p-value of 0 from both tests confirms the visual observation that app ratings are not normally distributed\n"
     ]
    }
   ],
   "source": [
    "apple_normal = stats.normaltest(app_df['rating'][app_df.store == 'apple'])\n",
    "google_normal = stats.normaltest(app_df['rating'][app_df.store == 'google'])\n",
    "print('The D’Agostino and Pearson’s normality test yielded p-values:')\n",
    "print('Apple: ', apple_normal[1])\n",
    "print('Google: ', google_normal[1])\n",
    "print('The p-value of 0 from both tests confirms the visual observation that app ratings are not normally distributed')"
   ]
  },
  {
   "cell_type": "markdown",
   "id": "0e748b6e-36cc-41cf-be8f-d2884fe3edd0",
   "metadata": {},
   "source": [
    "## Step 5 Modeling (Null Hypothesis and Permutation Test)\n",
    "\n",
    "#### <u>Null hypothesis</u>:\n",
    "\n",
    "**H<sub>null</sub>**: the observed difference in the mean app rating between Apple and Google store is due to randomness and is not significant.\n",
    "\n",
    "**H<sub>alternative</sub>**: the observed difference in the mean app rating between Apple and Google store is **not** due to chance and **is** significant.\n",
    "\n",
    "#### <u>Testing procedure</u>:\n",
    "1. Assume that the app stores of Google and Apple have no impact on rating.\n",
    "2. While keeping the store constant, the rating column was shuffled. Based on aforementioned assumption, the null hypothesis is not proven false if the replicate of the test statistic, the difference of app rating means between stores, is at least the observed difference of 0.124.\n",
    "3. 10,000 replicate samples and replicates were taken.\n",
    "\n",
    "Begin by defining functions that perform all of the above procedures:"
   ]
  },
  {
   "cell_type": "code",
   "execution_count": 21,
   "id": "d7f96266-5277-4f7f-bcb1-9a0904ee1f7a",
   "metadata": {},
   "outputs": [],
   "source": [
    "def diff_of_mean(data1, data2, func = np.mean):\n",
    "    \"\"\" Test statistic for difference of means\"\"\"\n",
    "    return func(data2)-func(data1)\n",
    "\n",
    "def permutation_sample(data1, data2):\n",
    "    \"\"\"Generate a permutation sample from two data sets.\"\"\"\n",
    "\n",
    "    # Concatenate the data sets: data\n",
    "    data = np.concatenate((data1, data2))\n",
    "\n",
    "    # Permute the concatenated array: permuted_data\n",
    "    permuted_data = np.random.permutation(data)\n",
    "\n",
    "    # Split the permuted array into two: perm_sample_1, perm_sample_2\n",
    "    perm_sample_1 = permuted_data[:len(data1)]\n",
    "    perm_sample_2 = permuted_data[len(data1):]\n",
    "\n",
    "    return perm_sample_1, perm_sample_2\n",
    "\n",
    "def draw_permutation_replicates(data_1, data_2, func, size =1):\n",
    "    \"\"\"Generate multiple permutation replicates.\"\"\"\n",
    "\n",
    "    # Initialize array of replicates: perm_replicates\n",
    "    perm_replicates = np.empty(size)\n",
    "\n",
    "    for i in range(size):\n",
    "        # Generate permutation sample\n",
    "        perm_sample_1, perm_sample_2 = permutation_sample(data_1,data_2)\n",
    "\n",
    "        # Compute the test statistic\n",
    "        perm_replicates[i] = func(perm_sample_1,perm_sample_2)\n",
    "\n",
    "    return perm_replicates"
   ]
  },
  {
   "cell_type": "markdown",
   "id": "16c9839c-c56d-43c6-9012-b51e67c20190",
   "metadata": {},
   "source": [
    "Perform the permutation test and generate 10,000 replicates."
   ]
  },
  {
   "cell_type": "code",
   "execution_count": 22,
   "id": "fc237fb3-3af8-4f1e-b697-c8a6c4ef4d78",
   "metadata": {},
   "outputs": [],
   "source": [
    "apple = app_df.rating[app_df.store == 'apple']\n",
    "google = app_df.rating[app_df.store == 'google']\n",
    "\n",
    "permutation_replicates = draw_permutation_replicates(apple, google, diff_of_mean,10000)"
   ]
  },
  {
   "cell_type": "markdown",
   "id": "54a9d2fd-5b82-479e-b6ae-494869f50be9",
   "metadata": {},
   "source": [
    "The 10,000 replicates were plotted in a histogram to visually determine the p-value for the null hypothesis."
   ]
  },
  {
   "cell_type": "code",
   "execution_count": 23,
   "id": "4ee16930-0856-4e19-bf42-e5e858f79be2",
   "metadata": {
    "jupyter": {
     "source_hidden": true
    },
    "tags": []
   },
   "outputs": [
    {
     "data": {
      "image/png": "[encoded data removed]",
      "text/plain": [
       "<Figure size 640x480 with 1 Axes>"
      ]
     },
     "metadata": {},
     "output_type": "display_data"
    }
   ],
   "source": [
    "_ = sns.histplot(data = permutation_replicates,\n",
    "                element = 'step',\n",
    "                fill = False)\n",
    "\n",
    "_ = plt.axvline(diff_of_mean(apple,google), color='r')\n",
    "plt.title(\"Replicate Distribution for Difference of Mean between Apple and Google\", y =1.03)\n",
    "plt.xlabel(\"Difference of Mean between Apple and Google stores\")\n",
    "plt.ylabel(\"Replicate Counts\")\n",
    "\n",
    "plt.annotate(\"Observed difference of 0.124\", xy = (diff_of_mean(apple,google),300), \n",
    "xytext = (diff_of_mean(apple,google)-0.10,300), \n",
    "arrowprops = {\"arrowstyle\":\"->\", \"color\":\"gray\"})\n",
    "\n",
    "plt.savefig('Replicate Distribution for Difference of Mean between Apple and Google.png',\n",
    "            dpi = 300, \n",
    "            format = 'png')\n",
    "\n",
    "plt.show()"
   ]
  },
  {
   "cell_type": "code",
   "execution_count": 24,
   "id": "dc9cf4a9-e1d7-4f87-b47a-60b332f4fb55",
   "metadata": {},
   "outputs": [
    {
     "name": "stdout",
     "output_type": "stream",
     "text": [
      "p-value for hypothesis test:  0.0\n"
     ]
    }
   ],
   "source": [
    "p_value = np.sum(permutation_replicates[permutation_replicates > diff_of_mean(apple, google)])/len(permutation_replicates)\n",
    "print('p-value for hypothesis test: ',p_value)"
   ]
  },
  {
   "cell_type": "markdown",
   "id": "6177c18d-b30a-4383-9509-9e788e21ff7e",
   "metadata": {},
   "source": [
    "# Conclusion:\n",
    "\n",
    "Based on 10,000 replicates generated from the permutation test, a p-value of 0 allows the rejection of the null hypothesis.\n",
    "Rephrasing, after performing 10,000 replicates, there is not 1 instance where the difference of means is as great as the observed difference of 0.124 between the Apple and Google store.\n",
    "\n",
    "The observed difference of 0.124 in the mean of app ratings between the Apple and Google store is significant.\n",
    "\n",
    "Thus, it is recommended that the client focus on developing the app for Google Play Store first."
   ]
  },
  {
   "cell_type": "markdown",
   "id": "3ddb138c-e64c-42fc-ab46-c9441bb8e2f0",
   "metadata": {},
   "source": [
    "# Further study:\n",
    "\n",
    "One assumption in this study was that all apps across categories are equal. EDA with further breakdown maybe required to better understand the category that best matches the app to be developed.\n",
    "\n",
    "Also, the price of the apps were ignored in this study. Understanding any differences in ratings caused by price could be helpful in determining the price of the app."
   ]
  }
 ],
 "metadata": {
  "kernelspec": {
   "display_name": "Python 3 (ipykernel)",
   "language": "python",
   "name": "python3"
  },
  "language_info": {
   "codemirror_mode": {
    "name": "ipython",
    "version": 3
   },
   "file_extension": ".py",
   "mimetype": "text/x-python",
   "name": "python",
   "nbconvert_exporter": "python",
   "pygments_lexer": "ipython3",
   "version": "3.9.12"
  }
 },
 "nbformat": 4,
 "nbformat_minor": 5
}
